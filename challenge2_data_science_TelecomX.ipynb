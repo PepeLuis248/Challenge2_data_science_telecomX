{
  "nbformat": 4,
  "nbformat_minor": 0,
  "metadata": {
    "colab": {
      "provenance": []
    },
    "kernelspec": {
      "name": "python3",
      "display_name": "Python 3"
    },
    "language_info": {
      "name": "python"
    }
  },
  "cells": [
    {
      "cell_type": "markdown",
      "source": [
        "#📌 Extracción"
      ],
      "metadata": {
        "id": "SlDaUkU772OU"
      }
    },
    {
      "cell_type": "code",
      "source": [
        "import pandas as pd"
      ],
      "metadata": {
        "id": "Yvf2s29174Rx"
      },
      "execution_count": 64,
      "outputs": []
    },
    {
      "cell_type": "markdown",
      "source": [
        "####Creo el DataFrame datos_TelecomX"
      ],
      "metadata": {
        "id": "dI5wyXe58GOz"
      }
    },
    {
      "cell_type": "code",
      "source": [
        "datos_TelecomX = pd.read_json('TelecomX_Data.json')"
      ],
      "metadata": {
        "id": "gIj1mKyh8Hbv"
      },
      "execution_count": 65,
      "outputs": []
    },
    {
      "cell_type": "markdown",
      "source": [
        "#🔧 Transformación"
      ],
      "metadata": {
        "id": "rQ-c7Iu79tgr"
      }
    },
    {
      "cell_type": "code",
      "source": [
        "datos_TelecomX.info()"
      ],
      "metadata": {
        "id": "Izjijk608U1o",
        "colab": {
          "base_uri": "https://localhost:8080/"
        },
        "outputId": "9d780fba-0502-4a49-8184-debee975b443"
      },
      "execution_count": 66,
      "outputs": [
        {
          "output_type": "stream",
          "name": "stdout",
          "text": [
            "<class 'pandas.core.frame.DataFrame'>\n",
            "RangeIndex: 7267 entries, 0 to 7266\n",
            "Data columns (total 6 columns):\n",
            " #   Column      Non-Null Count  Dtype \n",
            "---  ------      --------------  ----- \n",
            " 0   customerID  7267 non-null   object\n",
            " 1   Churn       7267 non-null   object\n",
            " 2   customer    7267 non-null   object\n",
            " 3   phone       7267 non-null   object\n",
            " 4   internet    7267 non-null   object\n",
            " 5   account     7267 non-null   object\n",
            "dtypes: object(6)\n",
            "memory usage: 340.8+ KB\n"
          ]
        }
      ]
    },
    {
      "cell_type": "code",
      "source": [
        "datos_TelecomX.dtypes"
      ],
      "metadata": {
        "id": "g4m0snxT9bFJ",
        "colab": {
          "base_uri": "https://localhost:8080/",
          "height": 272
        },
        "outputId": "9918e483-3404-4611-9e50-f519dd0e54a8"
      },
      "execution_count": 67,
      "outputs": [
        {
          "output_type": "execute_result",
          "data": {
            "text/plain": [
              "customerID    object\n",
              "Churn         object\n",
              "customer      object\n",
              "phone         object\n",
              "internet      object\n",
              "account       object\n",
              "dtype: object"
            ],
            "text/html": [
              "<div>\n",
              "<style scoped>\n",
              "    .dataframe tbody tr th:only-of-type {\n",
              "        vertical-align: middle;\n",
              "    }\n",
              "\n",
              "    .dataframe tbody tr th {\n",
              "        vertical-align: top;\n",
              "    }\n",
              "\n",
              "    .dataframe thead th {\n",
              "        text-align: right;\n",
              "    }\n",
              "</style>\n",
              "<table border=\"1\" class=\"dataframe\">\n",
              "  <thead>\n",
              "    <tr style=\"text-align: right;\">\n",
              "      <th></th>\n",
              "      <th>0</th>\n",
              "    </tr>\n",
              "  </thead>\n",
              "  <tbody>\n",
              "    <tr>\n",
              "      <th>customerID</th>\n",
              "      <td>object</td>\n",
              "    </tr>\n",
              "    <tr>\n",
              "      <th>Churn</th>\n",
              "      <td>object</td>\n",
              "    </tr>\n",
              "    <tr>\n",
              "      <th>customer</th>\n",
              "      <td>object</td>\n",
              "    </tr>\n",
              "    <tr>\n",
              "      <th>phone</th>\n",
              "      <td>object</td>\n",
              "    </tr>\n",
              "    <tr>\n",
              "      <th>internet</th>\n",
              "      <td>object</td>\n",
              "    </tr>\n",
              "    <tr>\n",
              "      <th>account</th>\n",
              "      <td>object</td>\n",
              "    </tr>\n",
              "  </tbody>\n",
              "</table>\n",
              "</div><br><label><b>dtype:</b> object</label>"
            ]
          },
          "metadata": {},
          "execution_count": 67
        }
      ]
    },
    {
      "cell_type": "code",
      "source": [
        "datos_TelecomX.head()"
      ],
      "metadata": {
        "id": "MbtAcAJgozw0",
        "colab": {
          "base_uri": "https://localhost:8080/",
          "height": 345
        },
        "outputId": "4ae25c1c-2ca8-4147-dd89-204697f7bf99"
      },
      "execution_count": 68,
      "outputs": [
        {
          "output_type": "execute_result",
          "data": {
            "text/plain": [
              "   customerID Churn                                           customer  \\\n",
              "0  0002-ORFBO    No  {'gender': 'Female', 'SeniorCitizen': 0, 'Part...   \n",
              "1  0003-MKNFE    No  {'gender': 'Male', 'SeniorCitizen': 0, 'Partne...   \n",
              "2  0004-TLHLJ   Yes  {'gender': 'Male', 'SeniorCitizen': 0, 'Partne...   \n",
              "3  0011-IGKFF   Yes  {'gender': 'Male', 'SeniorCitizen': 1, 'Partne...   \n",
              "4  0013-EXCHZ   Yes  {'gender': 'Female', 'SeniorCitizen': 1, 'Part...   \n",
              "\n",
              "                                             phone  \\\n",
              "0   {'PhoneService': 'Yes', 'MultipleLines': 'No'}   \n",
              "1  {'PhoneService': 'Yes', 'MultipleLines': 'Yes'}   \n",
              "2   {'PhoneService': 'Yes', 'MultipleLines': 'No'}   \n",
              "3   {'PhoneService': 'Yes', 'MultipleLines': 'No'}   \n",
              "4   {'PhoneService': 'Yes', 'MultipleLines': 'No'}   \n",
              "\n",
              "                                            internet  \\\n",
              "0  {'InternetService': 'DSL', 'OnlineSecurity': '...   \n",
              "1  {'InternetService': 'DSL', 'OnlineSecurity': '...   \n",
              "2  {'InternetService': 'Fiber optic', 'OnlineSecu...   \n",
              "3  {'InternetService': 'Fiber optic', 'OnlineSecu...   \n",
              "4  {'InternetService': 'Fiber optic', 'OnlineSecu...   \n",
              "\n",
              "                                             account  \n",
              "0  {'Contract': 'One year', 'PaperlessBilling': '...  \n",
              "1  {'Contract': 'Month-to-month', 'PaperlessBilli...  \n",
              "2  {'Contract': 'Month-to-month', 'PaperlessBilli...  \n",
              "3  {'Contract': 'Month-to-month', 'PaperlessBilli...  \n",
              "4  {'Contract': 'Month-to-month', 'PaperlessBilli...  "
            ],
            "text/html": [
              "\n",
              "  <div id=\"df-893a8c7c-c744-463f-9065-aaf388174d83\" class=\"colab-df-container\">\n",
              "    <div>\n",
              "<style scoped>\n",
              "    .dataframe tbody tr th:only-of-type {\n",
              "        vertical-align: middle;\n",
              "    }\n",
              "\n",
              "    .dataframe tbody tr th {\n",
              "        vertical-align: top;\n",
              "    }\n",
              "\n",
              "    .dataframe thead th {\n",
              "        text-align: right;\n",
              "    }\n",
              "</style>\n",
              "<table border=\"1\" class=\"dataframe\">\n",
              "  <thead>\n",
              "    <tr style=\"text-align: right;\">\n",
              "      <th></th>\n",
              "      <th>customerID</th>\n",
              "      <th>Churn</th>\n",
              "      <th>customer</th>\n",
              "      <th>phone</th>\n",
              "      <th>internet</th>\n",
              "      <th>account</th>\n",
              "    </tr>\n",
              "  </thead>\n",
              "  <tbody>\n",
              "    <tr>\n",
              "      <th>0</th>\n",
              "      <td>0002-ORFBO</td>\n",
              "      <td>No</td>\n",
              "      <td>{'gender': 'Female', 'SeniorCitizen': 0, 'Part...</td>\n",
              "      <td>{'PhoneService': 'Yes', 'MultipleLines': 'No'}</td>\n",
              "      <td>{'InternetService': 'DSL', 'OnlineSecurity': '...</td>\n",
              "      <td>{'Contract': 'One year', 'PaperlessBilling': '...</td>\n",
              "    </tr>\n",
              "    <tr>\n",
              "      <th>1</th>\n",
              "      <td>0003-MKNFE</td>\n",
              "      <td>No</td>\n",
              "      <td>{'gender': 'Male', 'SeniorCitizen': 0, 'Partne...</td>\n",
              "      <td>{'PhoneService': 'Yes', 'MultipleLines': 'Yes'}</td>\n",
              "      <td>{'InternetService': 'DSL', 'OnlineSecurity': '...</td>\n",
              "      <td>{'Contract': 'Month-to-month', 'PaperlessBilli...</td>\n",
              "    </tr>\n",
              "    <tr>\n",
              "      <th>2</th>\n",
              "      <td>0004-TLHLJ</td>\n",
              "      <td>Yes</td>\n",
              "      <td>{'gender': 'Male', 'SeniorCitizen': 0, 'Partne...</td>\n",
              "      <td>{'PhoneService': 'Yes', 'MultipleLines': 'No'}</td>\n",
              "      <td>{'InternetService': 'Fiber optic', 'OnlineSecu...</td>\n",
              "      <td>{'Contract': 'Month-to-month', 'PaperlessBilli...</td>\n",
              "    </tr>\n",
              "    <tr>\n",
              "      <th>3</th>\n",
              "      <td>0011-IGKFF</td>\n",
              "      <td>Yes</td>\n",
              "      <td>{'gender': 'Male', 'SeniorCitizen': 1, 'Partne...</td>\n",
              "      <td>{'PhoneService': 'Yes', 'MultipleLines': 'No'}</td>\n",
              "      <td>{'InternetService': 'Fiber optic', 'OnlineSecu...</td>\n",
              "      <td>{'Contract': 'Month-to-month', 'PaperlessBilli...</td>\n",
              "    </tr>\n",
              "    <tr>\n",
              "      <th>4</th>\n",
              "      <td>0013-EXCHZ</td>\n",
              "      <td>Yes</td>\n",
              "      <td>{'gender': 'Female', 'SeniorCitizen': 1, 'Part...</td>\n",
              "      <td>{'PhoneService': 'Yes', 'MultipleLines': 'No'}</td>\n",
              "      <td>{'InternetService': 'Fiber optic', 'OnlineSecu...</td>\n",
              "      <td>{'Contract': 'Month-to-month', 'PaperlessBilli...</td>\n",
              "    </tr>\n",
              "  </tbody>\n",
              "</table>\n",
              "</div>\n",
              "    <div class=\"colab-df-buttons\">\n",
              "\n",
              "  <div class=\"colab-df-container\">\n",
              "    <button class=\"colab-df-convert\" onclick=\"convertToInteractive('df-893a8c7c-c744-463f-9065-aaf388174d83')\"\n",
              "            title=\"Convert this dataframe to an interactive table.\"\n",
              "            style=\"display:none;\">\n",
              "\n",
              "  <svg xmlns=\"http://www.w3.org/2000/svg\" height=\"24px\" viewBox=\"0 -960 960 960\">\n",
              "    <path d=\"M120-120v-720h720v720H120Zm60-500h600v-160H180v160Zm220 220h160v-160H400v160Zm0 220h160v-160H400v160ZM180-400h160v-160H180v160Zm440 0h160v-160H620v160ZM180-180h160v-160H180v160Zm440 0h160v-160H620v160Z\"/>\n",
              "  </svg>\n",
              "    </button>\n",
              "\n",
              "  <style>\n",
              "    .colab-df-container {\n",
              "      display:flex;\n",
              "      gap: 12px;\n",
              "    }\n",
              "\n",
              "    .colab-df-convert {\n",
              "      background-color: #E8F0FE;\n",
              "      border: none;\n",
              "      border-radius: 50%;\n",
              "      cursor: pointer;\n",
              "      display: none;\n",
              "      fill: #1967D2;\n",
              "      height: 32px;\n",
              "      padding: 0 0 0 0;\n",
              "      width: 32px;\n",
              "    }\n",
              "\n",
              "    .colab-df-convert:hover {\n",
              "      background-color: #E2EBFA;\n",
              "      box-shadow: 0px 1px 2px rgba(60, 64, 67, 0.3), 0px 1px 3px 1px rgba(60, 64, 67, 0.15);\n",
              "      fill: #174EA6;\n",
              "    }\n",
              "\n",
              "    .colab-df-buttons div {\n",
              "      margin-bottom: 4px;\n",
              "    }\n",
              "\n",
              "    [theme=dark] .colab-df-convert {\n",
              "      background-color: #3B4455;\n",
              "      fill: #D2E3FC;\n",
              "    }\n",
              "\n",
              "    [theme=dark] .colab-df-convert:hover {\n",
              "      background-color: #434B5C;\n",
              "      box-shadow: 0px 1px 3px 1px rgba(0, 0, 0, 0.15);\n",
              "      filter: drop-shadow(0px 1px 2px rgba(0, 0, 0, 0.3));\n",
              "      fill: #FFFFFF;\n",
              "    }\n",
              "  </style>\n",
              "\n",
              "    <script>\n",
              "      const buttonEl =\n",
              "        document.querySelector('#df-893a8c7c-c744-463f-9065-aaf388174d83 button.colab-df-convert');\n",
              "      buttonEl.style.display =\n",
              "        google.colab.kernel.accessAllowed ? 'block' : 'none';\n",
              "\n",
              "      async function convertToInteractive(key) {\n",
              "        const element = document.querySelector('#df-893a8c7c-c744-463f-9065-aaf388174d83');\n",
              "        const dataTable =\n",
              "          await google.colab.kernel.invokeFunction('convertToInteractive',\n",
              "                                                    [key], {});\n",
              "        if (!dataTable) return;\n",
              "\n",
              "        const docLinkHtml = 'Like what you see? Visit the ' +\n",
              "          '<a target=\"_blank\" href=https://colab.research.google.com/notebooks/data_table.ipynb>data table notebook</a>'\n",
              "          + ' to learn more about interactive tables.';\n",
              "        element.innerHTML = '';\n",
              "        dataTable['output_type'] = 'display_data';\n",
              "        await google.colab.output.renderOutput(dataTable, element);\n",
              "        const docLink = document.createElement('div');\n",
              "        docLink.innerHTML = docLinkHtml;\n",
              "        element.appendChild(docLink);\n",
              "      }\n",
              "    </script>\n",
              "  </div>\n",
              "\n",
              "\n",
              "    <div id=\"df-4a5a3486-c823-4e1a-aee4-f8d9a0e190f8\">\n",
              "      <button class=\"colab-df-quickchart\" onclick=\"quickchart('df-4a5a3486-c823-4e1a-aee4-f8d9a0e190f8')\"\n",
              "                title=\"Suggest charts\"\n",
              "                style=\"display:none;\">\n",
              "\n",
              "<svg xmlns=\"http://www.w3.org/2000/svg\" height=\"24px\"viewBox=\"0 0 24 24\"\n",
              "     width=\"24px\">\n",
              "    <g>\n",
              "        <path d=\"M19 3H5c-1.1 0-2 .9-2 2v14c0 1.1.9 2 2 2h14c1.1 0 2-.9 2-2V5c0-1.1-.9-2-2-2zM9 17H7v-7h2v7zm4 0h-2V7h2v10zm4 0h-2v-4h2v4z\"/>\n",
              "    </g>\n",
              "</svg>\n",
              "      </button>\n",
              "\n",
              "<style>\n",
              "  .colab-df-quickchart {\n",
              "      --bg-color: #E8F0FE;\n",
              "      --fill-color: #1967D2;\n",
              "      --hover-bg-color: #E2EBFA;\n",
              "      --hover-fill-color: #174EA6;\n",
              "      --disabled-fill-color: #AAA;\n",
              "      --disabled-bg-color: #DDD;\n",
              "  }\n",
              "\n",
              "  [theme=dark] .colab-df-quickchart {\n",
              "      --bg-color: #3B4455;\n",
              "      --fill-color: #D2E3FC;\n",
              "      --hover-bg-color: #434B5C;\n",
              "      --hover-fill-color: #FFFFFF;\n",
              "      --disabled-bg-color: #3B4455;\n",
              "      --disabled-fill-color: #666;\n",
              "  }\n",
              "\n",
              "  .colab-df-quickchart {\n",
              "    background-color: var(--bg-color);\n",
              "    border: none;\n",
              "    border-radius: 50%;\n",
              "    cursor: pointer;\n",
              "    display: none;\n",
              "    fill: var(--fill-color);\n",
              "    height: 32px;\n",
              "    padding: 0;\n",
              "    width: 32px;\n",
              "  }\n",
              "\n",
              "  .colab-df-quickchart:hover {\n",
              "    background-color: var(--hover-bg-color);\n",
              "    box-shadow: 0 1px 2px rgba(60, 64, 67, 0.3), 0 1px 3px 1px rgba(60, 64, 67, 0.15);\n",
              "    fill: var(--button-hover-fill-color);\n",
              "  }\n",
              "\n",
              "  .colab-df-quickchart-complete:disabled,\n",
              "  .colab-df-quickchart-complete:disabled:hover {\n",
              "    background-color: var(--disabled-bg-color);\n",
              "    fill: var(--disabled-fill-color);\n",
              "    box-shadow: none;\n",
              "  }\n",
              "\n",
              "  .colab-df-spinner {\n",
              "    border: 2px solid var(--fill-color);\n",
              "    border-color: transparent;\n",
              "    border-bottom-color: var(--fill-color);\n",
              "    animation:\n",
              "      spin 1s steps(1) infinite;\n",
              "  }\n",
              "\n",
              "  @keyframes spin {\n",
              "    0% {\n",
              "      border-color: transparent;\n",
              "      border-bottom-color: var(--fill-color);\n",
              "      border-left-color: var(--fill-color);\n",
              "    }\n",
              "    20% {\n",
              "      border-color: transparent;\n",
              "      border-left-color: var(--fill-color);\n",
              "      border-top-color: var(--fill-color);\n",
              "    }\n",
              "    30% {\n",
              "      border-color: transparent;\n",
              "      border-left-color: var(--fill-color);\n",
              "      border-top-color: var(--fill-color);\n",
              "      border-right-color: var(--fill-color);\n",
              "    }\n",
              "    40% {\n",
              "      border-color: transparent;\n",
              "      border-right-color: var(--fill-color);\n",
              "      border-top-color: var(--fill-color);\n",
              "    }\n",
              "    60% {\n",
              "      border-color: transparent;\n",
              "      border-right-color: var(--fill-color);\n",
              "    }\n",
              "    80% {\n",
              "      border-color: transparent;\n",
              "      border-right-color: var(--fill-color);\n",
              "      border-bottom-color: var(--fill-color);\n",
              "    }\n",
              "    90% {\n",
              "      border-color: transparent;\n",
              "      border-bottom-color: var(--fill-color);\n",
              "    }\n",
              "  }\n",
              "</style>\n",
              "\n",
              "      <script>\n",
              "        async function quickchart(key) {\n",
              "          const quickchartButtonEl =\n",
              "            document.querySelector('#' + key + ' button');\n",
              "          quickchartButtonEl.disabled = true;  // To prevent multiple clicks.\n",
              "          quickchartButtonEl.classList.add('colab-df-spinner');\n",
              "          try {\n",
              "            const charts = await google.colab.kernel.invokeFunction(\n",
              "                'suggestCharts', [key], {});\n",
              "          } catch (error) {\n",
              "            console.error('Error during call to suggestCharts:', error);\n",
              "          }\n",
              "          quickchartButtonEl.classList.remove('colab-df-spinner');\n",
              "          quickchartButtonEl.classList.add('colab-df-quickchart-complete');\n",
              "        }\n",
              "        (() => {\n",
              "          let quickchartButtonEl =\n",
              "            document.querySelector('#df-4a5a3486-c823-4e1a-aee4-f8d9a0e190f8 button');\n",
              "          quickchartButtonEl.style.display =\n",
              "            google.colab.kernel.accessAllowed ? 'block' : 'none';\n",
              "        })();\n",
              "      </script>\n",
              "    </div>\n",
              "\n",
              "    </div>\n",
              "  </div>\n"
            ],
            "application/vnd.google.colaboratory.intrinsic+json": {
              "type": "dataframe",
              "variable_name": "datos_TelecomX",
              "summary": "{\n  \"name\": \"datos_TelecomX\",\n  \"rows\": 7267,\n  \"fields\": [\n    {\n      \"column\": \"customerID\",\n      \"properties\": {\n        \"dtype\": \"string\",\n        \"num_unique_values\": 7267,\n        \"samples\": [\n          \"2038-OEQZH\",\n          \"6322-HRPFA\",\n          \"3969-JQABI\"\n        ],\n        \"semantic_type\": \"\",\n        \"description\": \"\"\n      }\n    },\n    {\n      \"column\": \"Churn\",\n      \"properties\": {\n        \"dtype\": \"category\",\n        \"num_unique_values\": 3,\n        \"samples\": [\n          \"No\",\n          \"Yes\",\n          \"\"\n        ],\n        \"semantic_type\": \"\",\n        \"description\": \"\"\n      }\n    },\n    {\n      \"column\": \"customer\",\n      \"properties\": {\n        \"dtype\": \"object\",\n        \"semantic_type\": \"\",\n        \"description\": \"\"\n      }\n    },\n    {\n      \"column\": \"phone\",\n      \"properties\": {\n        \"dtype\": \"object\",\n        \"semantic_type\": \"\",\n        \"description\": \"\"\n      }\n    },\n    {\n      \"column\": \"internet\",\n      \"properties\": {\n        \"dtype\": \"object\",\n        \"semantic_type\": \"\",\n        \"description\": \"\"\n      }\n    },\n    {\n      \"column\": \"account\",\n      \"properties\": {\n        \"dtype\": \"object\",\n        \"semantic_type\": \"\",\n        \"description\": \"\"\n      }\n    }\n  ]\n}"
            }
          },
          "metadata": {},
          "execution_count": 68
        }
      ]
    },
    {
      "cell_type": "markdown",
      "source": [
        "####Normalización de los datos del dataframe"
      ],
      "metadata": {
        "id": "Rl4oD8kv-yle"
      }
    },
    {
      "cell_type": "code",
      "source": [
        "df_customer = pd.json_normalize(datos_TelecomX['customer'])\n",
        "df_phone = pd.json_normalize(datos_TelecomX['phone'])\n",
        "df_internet = pd.json_normalize(datos_TelecomX['internet'])\n",
        "df_account = pd.json_normalize(datos_TelecomX['account'])"
      ],
      "metadata": {
        "id": "SwFQpueD-Wzn"
      },
      "execution_count": 69,
      "outputs": []
    },
    {
      "cell_type": "markdown",
      "source": [
        "####Une las columnas nuevas al DataFrame original"
      ],
      "metadata": {
        "id": "O0-Oaa84_ux-"
      }
    },
    {
      "cell_type": "code",
      "source": [
        "datos_TelecomX_Fla = pd.concat([datos_TelecomX, df_customer, df_phone, df_internet, df_account], axis=1)"
      ],
      "metadata": {
        "id": "TGJC1rAU_cl-"
      },
      "execution_count": 70,
      "outputs": []
    },
    {
      "cell_type": "code",
      "source": [
        "datos_TelecomX_Fla.head()"
      ],
      "metadata": {
        "colab": {
          "base_uri": "https://localhost:8080/",
          "height": 516
        },
        "id": "qNnDv2prAAE6",
        "outputId": "16e10459-02e2-47d0-ae1d-ed8e1f11580d"
      },
      "execution_count": 71,
      "outputs": [
        {
          "output_type": "execute_result",
          "data": {
            "text/plain": [
              "   customerID Churn                                           customer  \\\n",
              "0  0002-ORFBO    No  {'gender': 'Female', 'SeniorCitizen': 0, 'Part...   \n",
              "1  0003-MKNFE    No  {'gender': 'Male', 'SeniorCitizen': 0, 'Partne...   \n",
              "2  0004-TLHLJ   Yes  {'gender': 'Male', 'SeniorCitizen': 0, 'Partne...   \n",
              "3  0011-IGKFF   Yes  {'gender': 'Male', 'SeniorCitizen': 1, 'Partne...   \n",
              "4  0013-EXCHZ   Yes  {'gender': 'Female', 'SeniorCitizen': 1, 'Part...   \n",
              "\n",
              "                                             phone  \\\n",
              "0   {'PhoneService': 'Yes', 'MultipleLines': 'No'}   \n",
              "1  {'PhoneService': 'Yes', 'MultipleLines': 'Yes'}   \n",
              "2   {'PhoneService': 'Yes', 'MultipleLines': 'No'}   \n",
              "3   {'PhoneService': 'Yes', 'MultipleLines': 'No'}   \n",
              "4   {'PhoneService': 'Yes', 'MultipleLines': 'No'}   \n",
              "\n",
              "                                            internet  \\\n",
              "0  {'InternetService': 'DSL', 'OnlineSecurity': '...   \n",
              "1  {'InternetService': 'DSL', 'OnlineSecurity': '...   \n",
              "2  {'InternetService': 'Fiber optic', 'OnlineSecu...   \n",
              "3  {'InternetService': 'Fiber optic', 'OnlineSecu...   \n",
              "4  {'InternetService': 'Fiber optic', 'OnlineSecu...   \n",
              "\n",
              "                                             account  gender  SeniorCitizen  \\\n",
              "0  {'Contract': 'One year', 'PaperlessBilling': '...  Female              0   \n",
              "1  {'Contract': 'Month-to-month', 'PaperlessBilli...    Male              0   \n",
              "2  {'Contract': 'Month-to-month', 'PaperlessBilli...    Male              0   \n",
              "3  {'Contract': 'Month-to-month', 'PaperlessBilli...    Male              1   \n",
              "4  {'Contract': 'Month-to-month', 'PaperlessBilli...  Female              1   \n",
              "\n",
              "  Partner Dependents  ...  OnlineBackup DeviceProtection TechSupport  \\\n",
              "0     Yes        Yes  ...           Yes               No         Yes   \n",
              "1      No         No  ...            No               No          No   \n",
              "2      No         No  ...            No              Yes          No   \n",
              "3     Yes         No  ...           Yes              Yes          No   \n",
              "4     Yes         No  ...            No               No         Yes   \n",
              "\n",
              "  StreamingTV StreamingMovies        Contract PaperlessBilling  \\\n",
              "0         Yes              No        One year              Yes   \n",
              "1          No             Yes  Month-to-month               No   \n",
              "2          No              No  Month-to-month              Yes   \n",
              "3         Yes             Yes  Month-to-month              Yes   \n",
              "4         Yes              No  Month-to-month              Yes   \n",
              "\n",
              "      PaymentMethod Charges.Monthly Charges.Total  \n",
              "0      Mailed check            65.6         593.3  \n",
              "1      Mailed check            59.9         542.4  \n",
              "2  Electronic check            73.9        280.85  \n",
              "3  Electronic check            98.0       1237.85  \n",
              "4      Mailed check            83.9         267.4  \n",
              "\n",
              "[5 rows x 25 columns]"
            ],
            "text/html": [
              "\n",
              "  <div id=\"df-09558974-706f-43b4-a609-771d25744b5b\" class=\"colab-df-container\">\n",
              "    <div>\n",
              "<style scoped>\n",
              "    .dataframe tbody tr th:only-of-type {\n",
              "        vertical-align: middle;\n",
              "    }\n",
              "\n",
              "    .dataframe tbody tr th {\n",
              "        vertical-align: top;\n",
              "    }\n",
              "\n",
              "    .dataframe thead th {\n",
              "        text-align: right;\n",
              "    }\n",
              "</style>\n",
              "<table border=\"1\" class=\"dataframe\">\n",
              "  <thead>\n",
              "    <tr style=\"text-align: right;\">\n",
              "      <th></th>\n",
              "      <th>customerID</th>\n",
              "      <th>Churn</th>\n",
              "      <th>customer</th>\n",
              "      <th>phone</th>\n",
              "      <th>internet</th>\n",
              "      <th>account</th>\n",
              "      <th>gender</th>\n",
              "      <th>SeniorCitizen</th>\n",
              "      <th>Partner</th>\n",
              "      <th>Dependents</th>\n",
              "      <th>...</th>\n",
              "      <th>OnlineBackup</th>\n",
              "      <th>DeviceProtection</th>\n",
              "      <th>TechSupport</th>\n",
              "      <th>StreamingTV</th>\n",
              "      <th>StreamingMovies</th>\n",
              "      <th>Contract</th>\n",
              "      <th>PaperlessBilling</th>\n",
              "      <th>PaymentMethod</th>\n",
              "      <th>Charges.Monthly</th>\n",
              "      <th>Charges.Total</th>\n",
              "    </tr>\n",
              "  </thead>\n",
              "  <tbody>\n",
              "    <tr>\n",
              "      <th>0</th>\n",
              "      <td>0002-ORFBO</td>\n",
              "      <td>No</td>\n",
              "      <td>{'gender': 'Female', 'SeniorCitizen': 0, 'Part...</td>\n",
              "      <td>{'PhoneService': 'Yes', 'MultipleLines': 'No'}</td>\n",
              "      <td>{'InternetService': 'DSL', 'OnlineSecurity': '...</td>\n",
              "      <td>{'Contract': 'One year', 'PaperlessBilling': '...</td>\n",
              "      <td>Female</td>\n",
              "      <td>0</td>\n",
              "      <td>Yes</td>\n",
              "      <td>Yes</td>\n",
              "      <td>...</td>\n",
              "      <td>Yes</td>\n",
              "      <td>No</td>\n",
              "      <td>Yes</td>\n",
              "      <td>Yes</td>\n",
              "      <td>No</td>\n",
              "      <td>One year</td>\n",
              "      <td>Yes</td>\n",
              "      <td>Mailed check</td>\n",
              "      <td>65.6</td>\n",
              "      <td>593.3</td>\n",
              "    </tr>\n",
              "    <tr>\n",
              "      <th>1</th>\n",
              "      <td>0003-MKNFE</td>\n",
              "      <td>No</td>\n",
              "      <td>{'gender': 'Male', 'SeniorCitizen': 0, 'Partne...</td>\n",
              "      <td>{'PhoneService': 'Yes', 'MultipleLines': 'Yes'}</td>\n",
              "      <td>{'InternetService': 'DSL', 'OnlineSecurity': '...</td>\n",
              "      <td>{'Contract': 'Month-to-month', 'PaperlessBilli...</td>\n",
              "      <td>Male</td>\n",
              "      <td>0</td>\n",
              "      <td>No</td>\n",
              "      <td>No</td>\n",
              "      <td>...</td>\n",
              "      <td>No</td>\n",
              "      <td>No</td>\n",
              "      <td>No</td>\n",
              "      <td>No</td>\n",
              "      <td>Yes</td>\n",
              "      <td>Month-to-month</td>\n",
              "      <td>No</td>\n",
              "      <td>Mailed check</td>\n",
              "      <td>59.9</td>\n",
              "      <td>542.4</td>\n",
              "    </tr>\n",
              "    <tr>\n",
              "      <th>2</th>\n",
              "      <td>0004-TLHLJ</td>\n",
              "      <td>Yes</td>\n",
              "      <td>{'gender': 'Male', 'SeniorCitizen': 0, 'Partne...</td>\n",
              "      <td>{'PhoneService': 'Yes', 'MultipleLines': 'No'}</td>\n",
              "      <td>{'InternetService': 'Fiber optic', 'OnlineSecu...</td>\n",
              "      <td>{'Contract': 'Month-to-month', 'PaperlessBilli...</td>\n",
              "      <td>Male</td>\n",
              "      <td>0</td>\n",
              "      <td>No</td>\n",
              "      <td>No</td>\n",
              "      <td>...</td>\n",
              "      <td>No</td>\n",
              "      <td>Yes</td>\n",
              "      <td>No</td>\n",
              "      <td>No</td>\n",
              "      <td>No</td>\n",
              "      <td>Month-to-month</td>\n",
              "      <td>Yes</td>\n",
              "      <td>Electronic check</td>\n",
              "      <td>73.9</td>\n",
              "      <td>280.85</td>\n",
              "    </tr>\n",
              "    <tr>\n",
              "      <th>3</th>\n",
              "      <td>0011-IGKFF</td>\n",
              "      <td>Yes</td>\n",
              "      <td>{'gender': 'Male', 'SeniorCitizen': 1, 'Partne...</td>\n",
              "      <td>{'PhoneService': 'Yes', 'MultipleLines': 'No'}</td>\n",
              "      <td>{'InternetService': 'Fiber optic', 'OnlineSecu...</td>\n",
              "      <td>{'Contract': 'Month-to-month', 'PaperlessBilli...</td>\n",
              "      <td>Male</td>\n",
              "      <td>1</td>\n",
              "      <td>Yes</td>\n",
              "      <td>No</td>\n",
              "      <td>...</td>\n",
              "      <td>Yes</td>\n",
              "      <td>Yes</td>\n",
              "      <td>No</td>\n",
              "      <td>Yes</td>\n",
              "      <td>Yes</td>\n",
              "      <td>Month-to-month</td>\n",
              "      <td>Yes</td>\n",
              "      <td>Electronic check</td>\n",
              "      <td>98.0</td>\n",
              "      <td>1237.85</td>\n",
              "    </tr>\n",
              "    <tr>\n",
              "      <th>4</th>\n",
              "      <td>0013-EXCHZ</td>\n",
              "      <td>Yes</td>\n",
              "      <td>{'gender': 'Female', 'SeniorCitizen': 1, 'Part...</td>\n",
              "      <td>{'PhoneService': 'Yes', 'MultipleLines': 'No'}</td>\n",
              "      <td>{'InternetService': 'Fiber optic', 'OnlineSecu...</td>\n",
              "      <td>{'Contract': 'Month-to-month', 'PaperlessBilli...</td>\n",
              "      <td>Female</td>\n",
              "      <td>1</td>\n",
              "      <td>Yes</td>\n",
              "      <td>No</td>\n",
              "      <td>...</td>\n",
              "      <td>No</td>\n",
              "      <td>No</td>\n",
              "      <td>Yes</td>\n",
              "      <td>Yes</td>\n",
              "      <td>No</td>\n",
              "      <td>Month-to-month</td>\n",
              "      <td>Yes</td>\n",
              "      <td>Mailed check</td>\n",
              "      <td>83.9</td>\n",
              "      <td>267.4</td>\n",
              "    </tr>\n",
              "  </tbody>\n",
              "</table>\n",
              "<p>5 rows × 25 columns</p>\n",
              "</div>\n",
              "    <div class=\"colab-df-buttons\">\n",
              "\n",
              "  <div class=\"colab-df-container\">\n",
              "    <button class=\"colab-df-convert\" onclick=\"convertToInteractive('df-09558974-706f-43b4-a609-771d25744b5b')\"\n",
              "            title=\"Convert this dataframe to an interactive table.\"\n",
              "            style=\"display:none;\">\n",
              "\n",
              "  <svg xmlns=\"http://www.w3.org/2000/svg\" height=\"24px\" viewBox=\"0 -960 960 960\">\n",
              "    <path d=\"M120-120v-720h720v720H120Zm60-500h600v-160H180v160Zm220 220h160v-160H400v160Zm0 220h160v-160H400v160ZM180-400h160v-160H180v160Zm440 0h160v-160H620v160ZM180-180h160v-160H180v160Zm440 0h160v-160H620v160Z\"/>\n",
              "  </svg>\n",
              "    </button>\n",
              "\n",
              "  <style>\n",
              "    .colab-df-container {\n",
              "      display:flex;\n",
              "      gap: 12px;\n",
              "    }\n",
              "\n",
              "    .colab-df-convert {\n",
              "      background-color: #E8F0FE;\n",
              "      border: none;\n",
              "      border-radius: 50%;\n",
              "      cursor: pointer;\n",
              "      display: none;\n",
              "      fill: #1967D2;\n",
              "      height: 32px;\n",
              "      padding: 0 0 0 0;\n",
              "      width: 32px;\n",
              "    }\n",
              "\n",
              "    .colab-df-convert:hover {\n",
              "      background-color: #E2EBFA;\n",
              "      box-shadow: 0px 1px 2px rgba(60, 64, 67, 0.3), 0px 1px 3px 1px rgba(60, 64, 67, 0.15);\n",
              "      fill: #174EA6;\n",
              "    }\n",
              "\n",
              "    .colab-df-buttons div {\n",
              "      margin-bottom: 4px;\n",
              "    }\n",
              "\n",
              "    [theme=dark] .colab-df-convert {\n",
              "      background-color: #3B4455;\n",
              "      fill: #D2E3FC;\n",
              "    }\n",
              "\n",
              "    [theme=dark] .colab-df-convert:hover {\n",
              "      background-color: #434B5C;\n",
              "      box-shadow: 0px 1px 3px 1px rgba(0, 0, 0, 0.15);\n",
              "      filter: drop-shadow(0px 1px 2px rgba(0, 0, 0, 0.3));\n",
              "      fill: #FFFFFF;\n",
              "    }\n",
              "  </style>\n",
              "\n",
              "    <script>\n",
              "      const buttonEl =\n",
              "        document.querySelector('#df-09558974-706f-43b4-a609-771d25744b5b button.colab-df-convert');\n",
              "      buttonEl.style.display =\n",
              "        google.colab.kernel.accessAllowed ? 'block' : 'none';\n",
              "\n",
              "      async function convertToInteractive(key) {\n",
              "        const element = document.querySelector('#df-09558974-706f-43b4-a609-771d25744b5b');\n",
              "        const dataTable =\n",
              "          await google.colab.kernel.invokeFunction('convertToInteractive',\n",
              "                                                    [key], {});\n",
              "        if (!dataTable) return;\n",
              "\n",
              "        const docLinkHtml = 'Like what you see? Visit the ' +\n",
              "          '<a target=\"_blank\" href=https://colab.research.google.com/notebooks/data_table.ipynb>data table notebook</a>'\n",
              "          + ' to learn more about interactive tables.';\n",
              "        element.innerHTML = '';\n",
              "        dataTable['output_type'] = 'display_data';\n",
              "        await google.colab.output.renderOutput(dataTable, element);\n",
              "        const docLink = document.createElement('div');\n",
              "        docLink.innerHTML = docLinkHtml;\n",
              "        element.appendChild(docLink);\n",
              "      }\n",
              "    </script>\n",
              "  </div>\n",
              "\n",
              "\n",
              "    <div id=\"df-10eb9c4b-3e15-4021-a485-d1d5f78e420b\">\n",
              "      <button class=\"colab-df-quickchart\" onclick=\"quickchart('df-10eb9c4b-3e15-4021-a485-d1d5f78e420b')\"\n",
              "                title=\"Suggest charts\"\n",
              "                style=\"display:none;\">\n",
              "\n",
              "<svg xmlns=\"http://www.w3.org/2000/svg\" height=\"24px\"viewBox=\"0 0 24 24\"\n",
              "     width=\"24px\">\n",
              "    <g>\n",
              "        <path d=\"M19 3H5c-1.1 0-2 .9-2 2v14c0 1.1.9 2 2 2h14c1.1 0 2-.9 2-2V5c0-1.1-.9-2-2-2zM9 17H7v-7h2v7zm4 0h-2V7h2v10zm4 0h-2v-4h2v4z\"/>\n",
              "    </g>\n",
              "</svg>\n",
              "      </button>\n",
              "\n",
              "<style>\n",
              "  .colab-df-quickchart {\n",
              "      --bg-color: #E8F0FE;\n",
              "      --fill-color: #1967D2;\n",
              "      --hover-bg-color: #E2EBFA;\n",
              "      --hover-fill-color: #174EA6;\n",
              "      --disabled-fill-color: #AAA;\n",
              "      --disabled-bg-color: #DDD;\n",
              "  }\n",
              "\n",
              "  [theme=dark] .colab-df-quickchart {\n",
              "      --bg-color: #3B4455;\n",
              "      --fill-color: #D2E3FC;\n",
              "      --hover-bg-color: #434B5C;\n",
              "      --hover-fill-color: #FFFFFF;\n",
              "      --disabled-bg-color: #3B4455;\n",
              "      --disabled-fill-color: #666;\n",
              "  }\n",
              "\n",
              "  .colab-df-quickchart {\n",
              "    background-color: var(--bg-color);\n",
              "    border: none;\n",
              "    border-radius: 50%;\n",
              "    cursor: pointer;\n",
              "    display: none;\n",
              "    fill: var(--fill-color);\n",
              "    height: 32px;\n",
              "    padding: 0;\n",
              "    width: 32px;\n",
              "  }\n",
              "\n",
              "  .colab-df-quickchart:hover {\n",
              "    background-color: var(--hover-bg-color);\n",
              "    box-shadow: 0 1px 2px rgba(60, 64, 67, 0.3), 0 1px 3px 1px rgba(60, 64, 67, 0.15);\n",
              "    fill: var(--button-hover-fill-color);\n",
              "  }\n",
              "\n",
              "  .colab-df-quickchart-complete:disabled,\n",
              "  .colab-df-quickchart-complete:disabled:hover {\n",
              "    background-color: var(--disabled-bg-color);\n",
              "    fill: var(--disabled-fill-color);\n",
              "    box-shadow: none;\n",
              "  }\n",
              "\n",
              "  .colab-df-spinner {\n",
              "    border: 2px solid var(--fill-color);\n",
              "    border-color: transparent;\n",
              "    border-bottom-color: var(--fill-color);\n",
              "    animation:\n",
              "      spin 1s steps(1) infinite;\n",
              "  }\n",
              "\n",
              "  @keyframes spin {\n",
              "    0% {\n",
              "      border-color: transparent;\n",
              "      border-bottom-color: var(--fill-color);\n",
              "      border-left-color: var(--fill-color);\n",
              "    }\n",
              "    20% {\n",
              "      border-color: transparent;\n",
              "      border-left-color: var(--fill-color);\n",
              "      border-top-color: var(--fill-color);\n",
              "    }\n",
              "    30% {\n",
              "      border-color: transparent;\n",
              "      border-left-color: var(--fill-color);\n",
              "      border-top-color: var(--fill-color);\n",
              "      border-right-color: var(--fill-color);\n",
              "    }\n",
              "    40% {\n",
              "      border-color: transparent;\n",
              "      border-right-color: var(--fill-color);\n",
              "      border-top-color: var(--fill-color);\n",
              "    }\n",
              "    60% {\n",
              "      border-color: transparent;\n",
              "      border-right-color: var(--fill-color);\n",
              "    }\n",
              "    80% {\n",
              "      border-color: transparent;\n",
              "      border-right-color: var(--fill-color);\n",
              "      border-bottom-color: var(--fill-color);\n",
              "    }\n",
              "    90% {\n",
              "      border-color: transparent;\n",
              "      border-bottom-color: var(--fill-color);\n",
              "    }\n",
              "  }\n",
              "</style>\n",
              "\n",
              "      <script>\n",
              "        async function quickchart(key) {\n",
              "          const quickchartButtonEl =\n",
              "            document.querySelector('#' + key + ' button');\n",
              "          quickchartButtonEl.disabled = true;  // To prevent multiple clicks.\n",
              "          quickchartButtonEl.classList.add('colab-df-spinner');\n",
              "          try {\n",
              "            const charts = await google.colab.kernel.invokeFunction(\n",
              "                'suggestCharts', [key], {});\n",
              "          } catch (error) {\n",
              "            console.error('Error during call to suggestCharts:', error);\n",
              "          }\n",
              "          quickchartButtonEl.classList.remove('colab-df-spinner');\n",
              "          quickchartButtonEl.classList.add('colab-df-quickchart-complete');\n",
              "        }\n",
              "        (() => {\n",
              "          let quickchartButtonEl =\n",
              "            document.querySelector('#df-10eb9c4b-3e15-4021-a485-d1d5f78e420b button');\n",
              "          quickchartButtonEl.style.display =\n",
              "            google.colab.kernel.accessAllowed ? 'block' : 'none';\n",
              "        })();\n",
              "      </script>\n",
              "    </div>\n",
              "\n",
              "    </div>\n",
              "  </div>\n"
            ],
            "application/vnd.google.colaboratory.intrinsic+json": {
              "type": "dataframe",
              "variable_name": "datos_TelecomX_Fla"
            }
          },
          "metadata": {},
          "execution_count": 71
        }
      ]
    },
    {
      "cell_type": "markdown",
      "source": [
        "####drop(...) elimina las columnas originales para evitar duplicación."
      ],
      "metadata": {
        "id": "HjTfvNY3AVev"
      }
    },
    {
      "cell_type": "code",
      "source": [
        "datos_TelecomX_Fla = datos_TelecomX_Fla.drop(['customer', 'phone', 'internet', 'account'], axis=1)"
      ],
      "metadata": {
        "id": "Ys7Zj4zhABXG"
      },
      "execution_count": 72,
      "outputs": []
    },
    {
      "cell_type": "markdown",
      "source": [
        "###**Traducción del encabezado de las columnas**"
      ],
      "metadata": {
        "id": "Z6lSSmVs6hMK"
      }
    },
    {
      "cell_type": "code",
      "source": [
        "#renombrando columnas\n",
        "datos_TelecomX_Fla.rename(columns={\n",
        "    'customerID': 'Id_cliente',\n",
        "    'Churn': 'Cancelación',\n",
        "    'gender': 'Genero',\n",
        "    'SeniorCitizen': 'Ciudadano_senior',\n",
        "    'Partner': 'Tiene_pareja',\n",
        "    'Dependents': 'Tiene_dependientes',\n",
        "    'tenure': 'Meses_de_cliente',\n",
        "    'PhoneService': 'Servicio_telefonico',\n",
        "    'MultipleLines': 'Lineas_multiples',\n",
        "    'InternetService': 'Tipo_internet',\n",
        "    'OnlineSecurity': 'Seguridad_online',\n",
        "    'OnlineBackup': 'Respaldo_online',\n",
        "    'DeviceProtection': 'Proteccion_dispositivo',\n",
        "    'TechSupport': 'Soporte_tecnico',\n",
        "    'StreamingTV': 'Tv_streaming',\n",
        "    'StreamingMovies': 'Peliculas_streaming',\n",
        "    'Contract': 'Tipo_contrato',\n",
        "    'PaperlessBilling': 'Factura_electronica',\n",
        "    'PaymentMethod': 'Metodo_pago',\n",
        "    'Charges.Monthly': 'Cargos_mensuales',\n",
        "    'Charges.Total': 'Cargos_totales'\n",
        "}, inplace=True)"
      ],
      "metadata": {
        "id": "6Q94TyK96unI"
      },
      "execution_count": 73,
      "outputs": []
    },
    {
      "cell_type": "code",
      "source": [
        "datos_TelecomX_Fla['Genero'] = datos_TelecomX_Fla['Genero'].replace({\n",
        "    'Male': 'Hombre',\n",
        "    'Female': 'Mujer'\n",
        "})"
      ],
      "metadata": {
        "id": "4g7XYHye4IdG"
      },
      "execution_count": 74,
      "outputs": []
    },
    {
      "cell_type": "code",
      "source": [
        "datos_TelecomX_Fla['Tipo_internet'] = datos_TelecomX_Fla['Tipo_internet'].replace({\n",
        "    'Fiber optic': 'Fibra óptica',\n",
        "    'DSL': 'Línea DSL',\n",
        "    'No': 'Ninguno'\n",
        "})\n"
      ],
      "metadata": {
        "id": "4NNCN93Q6A1D"
      },
      "execution_count": 75,
      "outputs": []
    },
    {
      "cell_type": "code",
      "source": [
        "datos_TelecomX_Fla['Tipo_contrato'] = datos_TelecomX_Fla['Tipo_contrato'].replace({\n",
        "    'Month-to-month': 'Mes a mes',\n",
        "    'One year': 'Un año',\n",
        "    'Two year': 'Dos años'\n",
        "})\n"
      ],
      "metadata": {
        "id": "m82yIW3Z659B"
      },
      "execution_count": 76,
      "outputs": []
    },
    {
      "cell_type": "code",
      "source": [
        "datos_TelecomX_Fla['Metodo_pago'] = datos_TelecomX_Fla['Metodo_pago'].replace({\n",
        "    'Electronic check': 'Factura electrónica',\n",
        "    'Mailed check': 'Cheque por correo',\n",
        "    'Bank transfer (automatic)': 'Transferencia bancaria (automática)',\n",
        "    'Credit card (automatic)': 'Tarjeta de crédito (automática)'\n",
        "})\n"
      ],
      "metadata": {
        "id": "hvJ8y5CT7mRX"
      },
      "execution_count": 77,
      "outputs": []
    },
    {
      "cell_type": "code",
      "source": [],
      "metadata": {
        "id": "XL8o_DOX6rHk"
      },
      "execution_count": 77,
      "outputs": []
    },
    {
      "cell_type": "code",
      "source": [
        "datos_TelecomX_Fla.head()"
      ],
      "metadata": {
        "colab": {
          "base_uri": "https://localhost:8080/",
          "height": 342
        },
        "id": "fJWHHS9PAfH4",
        "outputId": "6165357c-8704-49d9-99f6-ad3e0d81d57d"
      },
      "execution_count": 78,
      "outputs": [
        {
          "output_type": "execute_result",
          "data": {
            "text/plain": [
              "   Id_cliente Cancelación  Genero  Ciudadano_senior Tiene_pareja  \\\n",
              "0  0002-ORFBO          No   Mujer                 0          Yes   \n",
              "1  0003-MKNFE          No  Hombre                 0           No   \n",
              "2  0004-TLHLJ         Yes  Hombre                 0           No   \n",
              "3  0011-IGKFF         Yes  Hombre                 1          Yes   \n",
              "4  0013-EXCHZ         Yes   Mujer                 1          Yes   \n",
              "\n",
              "  Tiene_dependientes  Meses_de_cliente Servicio_telefonico Lineas_multiples  \\\n",
              "0                Yes                 9                 Yes               No   \n",
              "1                 No                 9                 Yes              Yes   \n",
              "2                 No                 4                 Yes               No   \n",
              "3                 No                13                 Yes               No   \n",
              "4                 No                 3                 Yes               No   \n",
              "\n",
              "  Tipo_internet  ... Respaldo_online Proteccion_dispositivo Soporte_tecnico  \\\n",
              "0     Línea DSL  ...             Yes                     No             Yes   \n",
              "1     Línea DSL  ...              No                     No              No   \n",
              "2  Fibra óptica  ...              No                    Yes              No   \n",
              "3  Fibra óptica  ...             Yes                    Yes              No   \n",
              "4  Fibra óptica  ...              No                     No             Yes   \n",
              "\n",
              "  Tv_streaming Peliculas_streaming Tipo_contrato Factura_electronica  \\\n",
              "0          Yes                  No        Un año                 Yes   \n",
              "1           No                 Yes     Mes a mes                  No   \n",
              "2           No                  No     Mes a mes                 Yes   \n",
              "3          Yes                 Yes     Mes a mes                 Yes   \n",
              "4          Yes                  No     Mes a mes                 Yes   \n",
              "\n",
              "           Metodo_pago Cargos_mensuales  Cargos_totales  \n",
              "0    Cheque por correo             65.6           593.3  \n",
              "1    Cheque por correo             59.9           542.4  \n",
              "2  Factura electrónica             73.9          280.85  \n",
              "3  Factura electrónica             98.0         1237.85  \n",
              "4    Cheque por correo             83.9           267.4  \n",
              "\n",
              "[5 rows x 21 columns]"
            ],
            "text/html": [
              "\n",
              "  <div id=\"df-9b94dc65-ca22-4c9c-8f6e-990040dd5f86\" class=\"colab-df-container\">\n",
              "    <div>\n",
              "<style scoped>\n",
              "    .dataframe tbody tr th:only-of-type {\n",
              "        vertical-align: middle;\n",
              "    }\n",
              "\n",
              "    .dataframe tbody tr th {\n",
              "        vertical-align: top;\n",
              "    }\n",
              "\n",
              "    .dataframe thead th {\n",
              "        text-align: right;\n",
              "    }\n",
              "</style>\n",
              "<table border=\"1\" class=\"dataframe\">\n",
              "  <thead>\n",
              "    <tr style=\"text-align: right;\">\n",
              "      <th></th>\n",
              "      <th>Id_cliente</th>\n",
              "      <th>Cancelación</th>\n",
              "      <th>Genero</th>\n",
              "      <th>Ciudadano_senior</th>\n",
              "      <th>Tiene_pareja</th>\n",
              "      <th>Tiene_dependientes</th>\n",
              "      <th>Meses_de_cliente</th>\n",
              "      <th>Servicio_telefonico</th>\n",
              "      <th>Lineas_multiples</th>\n",
              "      <th>Tipo_internet</th>\n",
              "      <th>...</th>\n",
              "      <th>Respaldo_online</th>\n",
              "      <th>Proteccion_dispositivo</th>\n",
              "      <th>Soporte_tecnico</th>\n",
              "      <th>Tv_streaming</th>\n",
              "      <th>Peliculas_streaming</th>\n",
              "      <th>Tipo_contrato</th>\n",
              "      <th>Factura_electronica</th>\n",
              "      <th>Metodo_pago</th>\n",
              "      <th>Cargos_mensuales</th>\n",
              "      <th>Cargos_totales</th>\n",
              "    </tr>\n",
              "  </thead>\n",
              "  <tbody>\n",
              "    <tr>\n",
              "      <th>0</th>\n",
              "      <td>0002-ORFBO</td>\n",
              "      <td>No</td>\n",
              "      <td>Mujer</td>\n",
              "      <td>0</td>\n",
              "      <td>Yes</td>\n",
              "      <td>Yes</td>\n",
              "      <td>9</td>\n",
              "      <td>Yes</td>\n",
              "      <td>No</td>\n",
              "      <td>Línea DSL</td>\n",
              "      <td>...</td>\n",
              "      <td>Yes</td>\n",
              "      <td>No</td>\n",
              "      <td>Yes</td>\n",
              "      <td>Yes</td>\n",
              "      <td>No</td>\n",
              "      <td>Un año</td>\n",
              "      <td>Yes</td>\n",
              "      <td>Cheque por correo</td>\n",
              "      <td>65.6</td>\n",
              "      <td>593.3</td>\n",
              "    </tr>\n",
              "    <tr>\n",
              "      <th>1</th>\n",
              "      <td>0003-MKNFE</td>\n",
              "      <td>No</td>\n",
              "      <td>Hombre</td>\n",
              "      <td>0</td>\n",
              "      <td>No</td>\n",
              "      <td>No</td>\n",
              "      <td>9</td>\n",
              "      <td>Yes</td>\n",
              "      <td>Yes</td>\n",
              "      <td>Línea DSL</td>\n",
              "      <td>...</td>\n",
              "      <td>No</td>\n",
              "      <td>No</td>\n",
              "      <td>No</td>\n",
              "      <td>No</td>\n",
              "      <td>Yes</td>\n",
              "      <td>Mes a mes</td>\n",
              "      <td>No</td>\n",
              "      <td>Cheque por correo</td>\n",
              "      <td>59.9</td>\n",
              "      <td>542.4</td>\n",
              "    </tr>\n",
              "    <tr>\n",
              "      <th>2</th>\n",
              "      <td>0004-TLHLJ</td>\n",
              "      <td>Yes</td>\n",
              "      <td>Hombre</td>\n",
              "      <td>0</td>\n",
              "      <td>No</td>\n",
              "      <td>No</td>\n",
              "      <td>4</td>\n",
              "      <td>Yes</td>\n",
              "      <td>No</td>\n",
              "      <td>Fibra óptica</td>\n",
              "      <td>...</td>\n",
              "      <td>No</td>\n",
              "      <td>Yes</td>\n",
              "      <td>No</td>\n",
              "      <td>No</td>\n",
              "      <td>No</td>\n",
              "      <td>Mes a mes</td>\n",
              "      <td>Yes</td>\n",
              "      <td>Factura electrónica</td>\n",
              "      <td>73.9</td>\n",
              "      <td>280.85</td>\n",
              "    </tr>\n",
              "    <tr>\n",
              "      <th>3</th>\n",
              "      <td>0011-IGKFF</td>\n",
              "      <td>Yes</td>\n",
              "      <td>Hombre</td>\n",
              "      <td>1</td>\n",
              "      <td>Yes</td>\n",
              "      <td>No</td>\n",
              "      <td>13</td>\n",
              "      <td>Yes</td>\n",
              "      <td>No</td>\n",
              "      <td>Fibra óptica</td>\n",
              "      <td>...</td>\n",
              "      <td>Yes</td>\n",
              "      <td>Yes</td>\n",
              "      <td>No</td>\n",
              "      <td>Yes</td>\n",
              "      <td>Yes</td>\n",
              "      <td>Mes a mes</td>\n",
              "      <td>Yes</td>\n",
              "      <td>Factura electrónica</td>\n",
              "      <td>98.0</td>\n",
              "      <td>1237.85</td>\n",
              "    </tr>\n",
              "    <tr>\n",
              "      <th>4</th>\n",
              "      <td>0013-EXCHZ</td>\n",
              "      <td>Yes</td>\n",
              "      <td>Mujer</td>\n",
              "      <td>1</td>\n",
              "      <td>Yes</td>\n",
              "      <td>No</td>\n",
              "      <td>3</td>\n",
              "      <td>Yes</td>\n",
              "      <td>No</td>\n",
              "      <td>Fibra óptica</td>\n",
              "      <td>...</td>\n",
              "      <td>No</td>\n",
              "      <td>No</td>\n",
              "      <td>Yes</td>\n",
              "      <td>Yes</td>\n",
              "      <td>No</td>\n",
              "      <td>Mes a mes</td>\n",
              "      <td>Yes</td>\n",
              "      <td>Cheque por correo</td>\n",
              "      <td>83.9</td>\n",
              "      <td>267.4</td>\n",
              "    </tr>\n",
              "  </tbody>\n",
              "</table>\n",
              "<p>5 rows × 21 columns</p>\n",
              "</div>\n",
              "    <div class=\"colab-df-buttons\">\n",
              "\n",
              "  <div class=\"colab-df-container\">\n",
              "    <button class=\"colab-df-convert\" onclick=\"convertToInteractive('df-9b94dc65-ca22-4c9c-8f6e-990040dd5f86')\"\n",
              "            title=\"Convert this dataframe to an interactive table.\"\n",
              "            style=\"display:none;\">\n",
              "\n",
              "  <svg xmlns=\"http://www.w3.org/2000/svg\" height=\"24px\" viewBox=\"0 -960 960 960\">\n",
              "    <path d=\"M120-120v-720h720v720H120Zm60-500h600v-160H180v160Zm220 220h160v-160H400v160Zm0 220h160v-160H400v160ZM180-400h160v-160H180v160Zm440 0h160v-160H620v160ZM180-180h160v-160H180v160Zm440 0h160v-160H620v160Z\"/>\n",
              "  </svg>\n",
              "    </button>\n",
              "\n",
              "  <style>\n",
              "    .colab-df-container {\n",
              "      display:flex;\n",
              "      gap: 12px;\n",
              "    }\n",
              "\n",
              "    .colab-df-convert {\n",
              "      background-color: #E8F0FE;\n",
              "      border: none;\n",
              "      border-radius: 50%;\n",
              "      cursor: pointer;\n",
              "      display: none;\n",
              "      fill: #1967D2;\n",
              "      height: 32px;\n",
              "      padding: 0 0 0 0;\n",
              "      width: 32px;\n",
              "    }\n",
              "\n",
              "    .colab-df-convert:hover {\n",
              "      background-color: #E2EBFA;\n",
              "      box-shadow: 0px 1px 2px rgba(60, 64, 67, 0.3), 0px 1px 3px 1px rgba(60, 64, 67, 0.15);\n",
              "      fill: #174EA6;\n",
              "    }\n",
              "\n",
              "    .colab-df-buttons div {\n",
              "      margin-bottom: 4px;\n",
              "    }\n",
              "\n",
              "    [theme=dark] .colab-df-convert {\n",
              "      background-color: #3B4455;\n",
              "      fill: #D2E3FC;\n",
              "    }\n",
              "\n",
              "    [theme=dark] .colab-df-convert:hover {\n",
              "      background-color: #434B5C;\n",
              "      box-shadow: 0px 1px 3px 1px rgba(0, 0, 0, 0.15);\n",
              "      filter: drop-shadow(0px 1px 2px rgba(0, 0, 0, 0.3));\n",
              "      fill: #FFFFFF;\n",
              "    }\n",
              "  </style>\n",
              "\n",
              "    <script>\n",
              "      const buttonEl =\n",
              "        document.querySelector('#df-9b94dc65-ca22-4c9c-8f6e-990040dd5f86 button.colab-df-convert');\n",
              "      buttonEl.style.display =\n",
              "        google.colab.kernel.accessAllowed ? 'block' : 'none';\n",
              "\n",
              "      async function convertToInteractive(key) {\n",
              "        const element = document.querySelector('#df-9b94dc65-ca22-4c9c-8f6e-990040dd5f86');\n",
              "        const dataTable =\n",
              "          await google.colab.kernel.invokeFunction('convertToInteractive',\n",
              "                                                    [key], {});\n",
              "        if (!dataTable) return;\n",
              "\n",
              "        const docLinkHtml = 'Like what you see? Visit the ' +\n",
              "          '<a target=\"_blank\" href=https://colab.research.google.com/notebooks/data_table.ipynb>data table notebook</a>'\n",
              "          + ' to learn more about interactive tables.';\n",
              "        element.innerHTML = '';\n",
              "        dataTable['output_type'] = 'display_data';\n",
              "        await google.colab.output.renderOutput(dataTable, element);\n",
              "        const docLink = document.createElement('div');\n",
              "        docLink.innerHTML = docLinkHtml;\n",
              "        element.appendChild(docLink);\n",
              "      }\n",
              "    </script>\n",
              "  </div>\n",
              "\n",
              "\n",
              "    <div id=\"df-29f472e1-ba46-4c93-b9c8-a1ca07721ac9\">\n",
              "      <button class=\"colab-df-quickchart\" onclick=\"quickchart('df-29f472e1-ba46-4c93-b9c8-a1ca07721ac9')\"\n",
              "                title=\"Suggest charts\"\n",
              "                style=\"display:none;\">\n",
              "\n",
              "<svg xmlns=\"http://www.w3.org/2000/svg\" height=\"24px\"viewBox=\"0 0 24 24\"\n",
              "     width=\"24px\">\n",
              "    <g>\n",
              "        <path d=\"M19 3H5c-1.1 0-2 .9-2 2v14c0 1.1.9 2 2 2h14c1.1 0 2-.9 2-2V5c0-1.1-.9-2-2-2zM9 17H7v-7h2v7zm4 0h-2V7h2v10zm4 0h-2v-4h2v4z\"/>\n",
              "    </g>\n",
              "</svg>\n",
              "      </button>\n",
              "\n",
              "<style>\n",
              "  .colab-df-quickchart {\n",
              "      --bg-color: #E8F0FE;\n",
              "      --fill-color: #1967D2;\n",
              "      --hover-bg-color: #E2EBFA;\n",
              "      --hover-fill-color: #174EA6;\n",
              "      --disabled-fill-color: #AAA;\n",
              "      --disabled-bg-color: #DDD;\n",
              "  }\n",
              "\n",
              "  [theme=dark] .colab-df-quickchart {\n",
              "      --bg-color: #3B4455;\n",
              "      --fill-color: #D2E3FC;\n",
              "      --hover-bg-color: #434B5C;\n",
              "      --hover-fill-color: #FFFFFF;\n",
              "      --disabled-bg-color: #3B4455;\n",
              "      --disabled-fill-color: #666;\n",
              "  }\n",
              "\n",
              "  .colab-df-quickchart {\n",
              "    background-color: var(--bg-color);\n",
              "    border: none;\n",
              "    border-radius: 50%;\n",
              "    cursor: pointer;\n",
              "    display: none;\n",
              "    fill: var(--fill-color);\n",
              "    height: 32px;\n",
              "    padding: 0;\n",
              "    width: 32px;\n",
              "  }\n",
              "\n",
              "  .colab-df-quickchart:hover {\n",
              "    background-color: var(--hover-bg-color);\n",
              "    box-shadow: 0 1px 2px rgba(60, 64, 67, 0.3), 0 1px 3px 1px rgba(60, 64, 67, 0.15);\n",
              "    fill: var(--button-hover-fill-color);\n",
              "  }\n",
              "\n",
              "  .colab-df-quickchart-complete:disabled,\n",
              "  .colab-df-quickchart-complete:disabled:hover {\n",
              "    background-color: var(--disabled-bg-color);\n",
              "    fill: var(--disabled-fill-color);\n",
              "    box-shadow: none;\n",
              "  }\n",
              "\n",
              "  .colab-df-spinner {\n",
              "    border: 2px solid var(--fill-color);\n",
              "    border-color: transparent;\n",
              "    border-bottom-color: var(--fill-color);\n",
              "    animation:\n",
              "      spin 1s steps(1) infinite;\n",
              "  }\n",
              "\n",
              "  @keyframes spin {\n",
              "    0% {\n",
              "      border-color: transparent;\n",
              "      border-bottom-color: var(--fill-color);\n",
              "      border-left-color: var(--fill-color);\n",
              "    }\n",
              "    20% {\n",
              "      border-color: transparent;\n",
              "      border-left-color: var(--fill-color);\n",
              "      border-top-color: var(--fill-color);\n",
              "    }\n",
              "    30% {\n",
              "      border-color: transparent;\n",
              "      border-left-color: var(--fill-color);\n",
              "      border-top-color: var(--fill-color);\n",
              "      border-right-color: var(--fill-color);\n",
              "    }\n",
              "    40% {\n",
              "      border-color: transparent;\n",
              "      border-right-color: var(--fill-color);\n",
              "      border-top-color: var(--fill-color);\n",
              "    }\n",
              "    60% {\n",
              "      border-color: transparent;\n",
              "      border-right-color: var(--fill-color);\n",
              "    }\n",
              "    80% {\n",
              "      border-color: transparent;\n",
              "      border-right-color: var(--fill-color);\n",
              "      border-bottom-color: var(--fill-color);\n",
              "    }\n",
              "    90% {\n",
              "      border-color: transparent;\n",
              "      border-bottom-color: var(--fill-color);\n",
              "    }\n",
              "  }\n",
              "</style>\n",
              "\n",
              "      <script>\n",
              "        async function quickchart(key) {\n",
              "          const quickchartButtonEl =\n",
              "            document.querySelector('#' + key + ' button');\n",
              "          quickchartButtonEl.disabled = true;  // To prevent multiple clicks.\n",
              "          quickchartButtonEl.classList.add('colab-df-spinner');\n",
              "          try {\n",
              "            const charts = await google.colab.kernel.invokeFunction(\n",
              "                'suggestCharts', [key], {});\n",
              "          } catch (error) {\n",
              "            console.error('Error during call to suggestCharts:', error);\n",
              "          }\n",
              "          quickchartButtonEl.classList.remove('colab-df-spinner');\n",
              "          quickchartButtonEl.classList.add('colab-df-quickchart-complete');\n",
              "        }\n",
              "        (() => {\n",
              "          let quickchartButtonEl =\n",
              "            document.querySelector('#df-29f472e1-ba46-4c93-b9c8-a1ca07721ac9 button');\n",
              "          quickchartButtonEl.style.display =\n",
              "            google.colab.kernel.accessAllowed ? 'block' : 'none';\n",
              "        })();\n",
              "      </script>\n",
              "    </div>\n",
              "\n",
              "    </div>\n",
              "  </div>\n"
            ],
            "application/vnd.google.colaboratory.intrinsic+json": {
              "type": "dataframe",
              "variable_name": "datos_TelecomX_Fla"
            }
          },
          "metadata": {},
          "execution_count": 78
        }
      ]
    },
    {
      "cell_type": "code",
      "source": [
        "datos_TelecomX_Fla.info()"
      ],
      "metadata": {
        "colab": {
          "base_uri": "https://localhost:8080/"
        },
        "id": "aqIEVXQjAk_K",
        "outputId": "4c19002d-950b-4405-debf-1d6dd18605d9"
      },
      "execution_count": 79,
      "outputs": [
        {
          "output_type": "stream",
          "name": "stdout",
          "text": [
            "<class 'pandas.core.frame.DataFrame'>\n",
            "RangeIndex: 7267 entries, 0 to 7266\n",
            "Data columns (total 21 columns):\n",
            " #   Column                  Non-Null Count  Dtype  \n",
            "---  ------                  --------------  -----  \n",
            " 0   Id_cliente              7267 non-null   object \n",
            " 1   Cancelación             7267 non-null   object \n",
            " 2   Genero                  7267 non-null   object \n",
            " 3   Ciudadano_senior        7267 non-null   int64  \n",
            " 4   Tiene_pareja            7267 non-null   object \n",
            " 5   Tiene_dependientes      7267 non-null   object \n",
            " 6   Meses_de_cliente        7267 non-null   int64  \n",
            " 7   Servicio_telefonico     7267 non-null   object \n",
            " 8   Lineas_multiples        7267 non-null   object \n",
            " 9   Tipo_internet           7267 non-null   object \n",
            " 10  Seguridad_online        7267 non-null   object \n",
            " 11  Respaldo_online         7267 non-null   object \n",
            " 12  Proteccion_dispositivo  7267 non-null   object \n",
            " 13  Soporte_tecnico         7267 non-null   object \n",
            " 14  Tv_streaming            7267 non-null   object \n",
            " 15  Peliculas_streaming     7267 non-null   object \n",
            " 16  Tipo_contrato           7267 non-null   object \n",
            " 17  Factura_electronica     7267 non-null   object \n",
            " 18  Metodo_pago             7267 non-null   object \n",
            " 19  Cargos_mensuales        7267 non-null   float64\n",
            " 20  Cargos_totales          7267 non-null   object \n",
            "dtypes: float64(1), int64(2), object(18)\n",
            "memory usage: 1.2+ MB\n"
          ]
        }
      ]
    },
    {
      "cell_type": "markdown",
      "source": [
        "####Manejo de inconsistencias"
      ],
      "metadata": {
        "id": "ofz97ZnWENoU"
      }
    },
    {
      "cell_type": "code",
      "source": [
        "import numpy as np"
      ],
      "metadata": {
        "id": "34_7Jr9mFI4q"
      },
      "execution_count": 80,
      "outputs": []
    },
    {
      "cell_type": "code",
      "source": [
        "# Eliminar espacios (incluso si hay solo espacios)\n",
        "datos_TelecomX_Fla['Cargos_totales'] = datos_TelecomX_Fla['Cargos_totales'].apply(lambda x: x.strip() if isinstance(x, str) else x)"
      ],
      "metadata": {
        "id": "qciPNMysBp78"
      },
      "execution_count": 81,
      "outputs": []
    },
    {
      "cell_type": "code",
      "source": [
        "# Reemplazar cadenas vacías (después del strip, estas serán '')\n",
        "datos_TelecomX_Fla['Cargos_totales'] = datos_TelecomX_Fla['Cargos_totales'].replace('', np.nan)"
      ],
      "metadata": {
        "id": "Eap8ddgmEwo9"
      },
      "execution_count": 82,
      "outputs": []
    },
    {
      "cell_type": "code",
      "source": [
        "# Convertir a float\n",
        "datos_TelecomX_Fla['Cargos_totales'] = datos_TelecomX_Fla['Cargos_totales'].astype(np.float64)\n"
      ],
      "metadata": {
        "id": "Ela3hTUwE-7C"
      },
      "execution_count": 83,
      "outputs": []
    },
    {
      "cell_type": "code",
      "source": [
        "datos_TelecomX_Fla.info()"
      ],
      "metadata": {
        "colab": {
          "base_uri": "https://localhost:8080/"
        },
        "id": "XVAg1pxQFYVK",
        "outputId": "5cc6687c-35bf-4825-ad3b-f65e3aeb49a7"
      },
      "execution_count": 84,
      "outputs": [
        {
          "output_type": "stream",
          "name": "stdout",
          "text": [
            "<class 'pandas.core.frame.DataFrame'>\n",
            "RangeIndex: 7267 entries, 0 to 7266\n",
            "Data columns (total 21 columns):\n",
            " #   Column                  Non-Null Count  Dtype  \n",
            "---  ------                  --------------  -----  \n",
            " 0   Id_cliente              7267 non-null   object \n",
            " 1   Cancelación             7267 non-null   object \n",
            " 2   Genero                  7267 non-null   object \n",
            " 3   Ciudadano_senior        7267 non-null   int64  \n",
            " 4   Tiene_pareja            7267 non-null   object \n",
            " 5   Tiene_dependientes      7267 non-null   object \n",
            " 6   Meses_de_cliente        7267 non-null   int64  \n",
            " 7   Servicio_telefonico     7267 non-null   object \n",
            " 8   Lineas_multiples        7267 non-null   object \n",
            " 9   Tipo_internet           7267 non-null   object \n",
            " 10  Seguridad_online        7267 non-null   object \n",
            " 11  Respaldo_online         7267 non-null   object \n",
            " 12  Proteccion_dispositivo  7267 non-null   object \n",
            " 13  Soporte_tecnico         7267 non-null   object \n",
            " 14  Tv_streaming            7267 non-null   object \n",
            " 15  Peliculas_streaming     7267 non-null   object \n",
            " 16  Tipo_contrato           7267 non-null   object \n",
            " 17  Factura_electronica     7267 non-null   object \n",
            " 18  Metodo_pago             7267 non-null   object \n",
            " 19  Cargos_mensuales        7267 non-null   float64\n",
            " 20  Cargos_totales          7256 non-null   float64\n",
            "dtypes: float64(2), int64(2), object(17)\n",
            "memory usage: 1.2+ MB\n"
          ]
        }
      ]
    },
    {
      "cell_type": "markdown",
      "source": [
        "####Ver cuántos valores NaN hay"
      ],
      "metadata": {
        "id": "d13R7a_HTkVM"
      }
    },
    {
      "cell_type": "code",
      "source": [
        "n_nan = datos_TelecomX_Fla['Cargos_totales'].isna().sum()\n",
        "print(f\"Hay {n_nan} valores NaN en 'Charges.Total'.\")"
      ],
      "metadata": {
        "id": "GN3YeJzeFdr-",
        "colab": {
          "base_uri": "https://localhost:8080/"
        },
        "outputId": "9960c50d-1fe7-4abe-9975-43048e2f236b"
      },
      "execution_count": 85,
      "outputs": [
        {
          "output_type": "stream",
          "name": "stdout",
          "text": [
            "Hay 11 valores NaN en 'Charges.Total'.\n"
          ]
        }
      ]
    },
    {
      "cell_type": "markdown",
      "source": [
        "###Imputar valores faltantes con la media"
      ],
      "metadata": {
        "id": "O_QVqNauUE5L"
      }
    },
    {
      "cell_type": "code",
      "source": [
        "# Calcular la media ignorando los NaN\n",
        "media_charges = datos_TelecomX_Fla['Cargos_totales'].mean()"
      ],
      "metadata": {
        "id": "N6LoAkkeTvZ3"
      },
      "execution_count": 86,
      "outputs": []
    },
    {
      "cell_type": "code",
      "source": [
        "# Rellenar NaN con la media\n",
        "datos_TelecomX_Fla['Cargos_totales'].fillna(media_charges, inplace=True)"
      ],
      "metadata": {
        "colab": {
          "base_uri": "https://localhost:8080/"
        },
        "id": "PCU8khrlUW_J",
        "outputId": "a1674d2d-cb7a-479b-fbbe-4cf4a7700d63"
      },
      "execution_count": 87,
      "outputs": [
        {
          "output_type": "stream",
          "name": "stderr",
          "text": [
            "<ipython-input-87-81457be6fd33>:2: FutureWarning: A value is trying to be set on a copy of a DataFrame or Series through chained assignment using an inplace method.\n",
            "The behavior will change in pandas 3.0. This inplace method will never work because the intermediate object on which we are setting values always behaves as a copy.\n",
            "\n",
            "For example, when doing 'df[col].method(value, inplace=True)', try using 'df.method({col: value}, inplace=True)' or df[col] = df[col].method(value) instead, to perform the operation inplace on the original object.\n",
            "\n",
            "\n",
            "  datos_TelecomX_Fla['Cargos_totales'].fillna(media_charges, inplace=True)\n"
          ]
        }
      ]
    },
    {
      "cell_type": "code",
      "source": [
        "print(f\"Se imputaron los valores faltantes con la media: {media_charges:.2f}\")"
      ],
      "metadata": {
        "colab": {
          "base_uri": "https://localhost:8080/"
        },
        "id": "KzfuQsuXUb-r",
        "outputId": "e718f909-52e6-4c31-c1cc-21d735292c71"
      },
      "execution_count": 88,
      "outputs": [
        {
          "output_type": "stream",
          "name": "stdout",
          "text": [
            "Se imputaron los valores faltantes con la media: 2280.63\n"
          ]
        }
      ]
    },
    {
      "cell_type": "code",
      "source": [
        "datos_TelecomX_Fla.info()"
      ],
      "metadata": {
        "colab": {
          "base_uri": "https://localhost:8080/"
        },
        "id": "5iNxV2BNUmOx",
        "outputId": "795d1be7-34f2-465c-c31f-3029af1ab704"
      },
      "execution_count": 89,
      "outputs": [
        {
          "output_type": "stream",
          "name": "stdout",
          "text": [
            "<class 'pandas.core.frame.DataFrame'>\n",
            "RangeIndex: 7267 entries, 0 to 7266\n",
            "Data columns (total 21 columns):\n",
            " #   Column                  Non-Null Count  Dtype  \n",
            "---  ------                  --------------  -----  \n",
            " 0   Id_cliente              7267 non-null   object \n",
            " 1   Cancelación             7267 non-null   object \n",
            " 2   Genero                  7267 non-null   object \n",
            " 3   Ciudadano_senior        7267 non-null   int64  \n",
            " 4   Tiene_pareja            7267 non-null   object \n",
            " 5   Tiene_dependientes      7267 non-null   object \n",
            " 6   Meses_de_cliente        7267 non-null   int64  \n",
            " 7   Servicio_telefonico     7267 non-null   object \n",
            " 8   Lineas_multiples        7267 non-null   object \n",
            " 9   Tipo_internet           7267 non-null   object \n",
            " 10  Seguridad_online        7267 non-null   object \n",
            " 11  Respaldo_online         7267 non-null   object \n",
            " 12  Proteccion_dispositivo  7267 non-null   object \n",
            " 13  Soporte_tecnico         7267 non-null   object \n",
            " 14  Tv_streaming            7267 non-null   object \n",
            " 15  Peliculas_streaming     7267 non-null   object \n",
            " 16  Tipo_contrato           7267 non-null   object \n",
            " 17  Factura_electronica     7267 non-null   object \n",
            " 18  Metodo_pago             7267 non-null   object \n",
            " 19  Cargos_mensuales        7267 non-null   float64\n",
            " 20  Cargos_totales          7267 non-null   float64\n",
            "dtypes: float64(2), int64(2), object(17)\n",
            "memory usage: 1.2+ MB\n"
          ]
        }
      ]
    },
    {
      "cell_type": "markdown",
      "source": [
        "#### Lista de columnas con 'Yes'/'No'\n",
        "#### Convertir a 1 (Yes), 0 (No)"
      ],
      "metadata": {
        "id": "JpR6kN68nsl_"
      }
    },
    {
      "cell_type": "code",
      "source": [
        "columnas_binarias = [\n",
        "    'Tiene_pareja', 'Tiene_dependientes', 'Servicio_telefonico', 'Lineas_multiples', 'Seguridad_online',\n",
        "    'Respaldo_online', 'Proteccion_dispositivo', 'Soporte_tecnico', 'Tv_streaming',\n",
        "    'Peliculas_streaming', 'Factura_electronica','Cancelación']\n",
        "\n",
        "for col in columnas_binarias:\n",
        "    datos_TelecomX_Fla[col] = datos_TelecomX_Fla[col].map(lambda x: 1 if x == 'Yes' else 0)"
      ],
      "metadata": {
        "id": "H3VbhZtMnnIM"
      },
      "execution_count": 90,
      "outputs": []
    },
    {
      "cell_type": "code",
      "source": [
        "datos_TelecomX_Fla.head()"
      ],
      "metadata": {
        "colab": {
          "base_uri": "https://localhost:8080/",
          "height": 342
        },
        "id": "CEXIFIKCrThf",
        "outputId": "58096fd9-bc4f-42bd-ed21-b7b48bd91543"
      },
      "execution_count": 91,
      "outputs": [
        {
          "output_type": "execute_result",
          "data": {
            "text/plain": [
              "   Id_cliente  Cancelación  Genero  Ciudadano_senior  Tiene_pareja  \\\n",
              "0  0002-ORFBO            0   Mujer                 0             1   \n",
              "1  0003-MKNFE            0  Hombre                 0             0   \n",
              "2  0004-TLHLJ            1  Hombre                 0             0   \n",
              "3  0011-IGKFF            1  Hombre                 1             1   \n",
              "4  0013-EXCHZ            1   Mujer                 1             1   \n",
              "\n",
              "   Tiene_dependientes  Meses_de_cliente  Servicio_telefonico  \\\n",
              "0                   1                 9                    1   \n",
              "1                   0                 9                    1   \n",
              "2                   0                 4                    1   \n",
              "3                   0                13                    1   \n",
              "4                   0                 3                    1   \n",
              "\n",
              "   Lineas_multiples Tipo_internet  ...  Respaldo_online  \\\n",
              "0                 0     Línea DSL  ...                1   \n",
              "1                 1     Línea DSL  ...                0   \n",
              "2                 0  Fibra óptica  ...                0   \n",
              "3                 0  Fibra óptica  ...                1   \n",
              "4                 0  Fibra óptica  ...                0   \n",
              "\n",
              "   Proteccion_dispositivo  Soporte_tecnico  Tv_streaming  Peliculas_streaming  \\\n",
              "0                       0                1             1                    0   \n",
              "1                       0                0             0                    1   \n",
              "2                       1                0             0                    0   \n",
              "3                       1                0             1                    1   \n",
              "4                       0                1             1                    0   \n",
              "\n",
              "   Tipo_contrato Factura_electronica          Metodo_pago Cargos_mensuales  \\\n",
              "0         Un año                   1    Cheque por correo             65.6   \n",
              "1      Mes a mes                   0    Cheque por correo             59.9   \n",
              "2      Mes a mes                   1  Factura electrónica             73.9   \n",
              "3      Mes a mes                   1  Factura electrónica             98.0   \n",
              "4      Mes a mes                   1    Cheque por correo             83.9   \n",
              "\n",
              "   Cargos_totales  \n",
              "0          593.30  \n",
              "1          542.40  \n",
              "2          280.85  \n",
              "3         1237.85  \n",
              "4          267.40  \n",
              "\n",
              "[5 rows x 21 columns]"
            ],
            "text/html": [
              "\n",
              "  <div id=\"df-0ec696cb-1a1f-40cb-a647-d4f6556e53eb\" class=\"colab-df-container\">\n",
              "    <div>\n",
              "<style scoped>\n",
              "    .dataframe tbody tr th:only-of-type {\n",
              "        vertical-align: middle;\n",
              "    }\n",
              "\n",
              "    .dataframe tbody tr th {\n",
              "        vertical-align: top;\n",
              "    }\n",
              "\n",
              "    .dataframe thead th {\n",
              "        text-align: right;\n",
              "    }\n",
              "</style>\n",
              "<table border=\"1\" class=\"dataframe\">\n",
              "  <thead>\n",
              "    <tr style=\"text-align: right;\">\n",
              "      <th></th>\n",
              "      <th>Id_cliente</th>\n",
              "      <th>Cancelación</th>\n",
              "      <th>Genero</th>\n",
              "      <th>Ciudadano_senior</th>\n",
              "      <th>Tiene_pareja</th>\n",
              "      <th>Tiene_dependientes</th>\n",
              "      <th>Meses_de_cliente</th>\n",
              "      <th>Servicio_telefonico</th>\n",
              "      <th>Lineas_multiples</th>\n",
              "      <th>Tipo_internet</th>\n",
              "      <th>...</th>\n",
              "      <th>Respaldo_online</th>\n",
              "      <th>Proteccion_dispositivo</th>\n",
              "      <th>Soporte_tecnico</th>\n",
              "      <th>Tv_streaming</th>\n",
              "      <th>Peliculas_streaming</th>\n",
              "      <th>Tipo_contrato</th>\n",
              "      <th>Factura_electronica</th>\n",
              "      <th>Metodo_pago</th>\n",
              "      <th>Cargos_mensuales</th>\n",
              "      <th>Cargos_totales</th>\n",
              "    </tr>\n",
              "  </thead>\n",
              "  <tbody>\n",
              "    <tr>\n",
              "      <th>0</th>\n",
              "      <td>0002-ORFBO</td>\n",
              "      <td>0</td>\n",
              "      <td>Mujer</td>\n",
              "      <td>0</td>\n",
              "      <td>1</td>\n",
              "      <td>1</td>\n",
              "      <td>9</td>\n",
              "      <td>1</td>\n",
              "      <td>0</td>\n",
              "      <td>Línea DSL</td>\n",
              "      <td>...</td>\n",
              "      <td>1</td>\n",
              "      <td>0</td>\n",
              "      <td>1</td>\n",
              "      <td>1</td>\n",
              "      <td>0</td>\n",
              "      <td>Un año</td>\n",
              "      <td>1</td>\n",
              "      <td>Cheque por correo</td>\n",
              "      <td>65.6</td>\n",
              "      <td>593.30</td>\n",
              "    </tr>\n",
              "    <tr>\n",
              "      <th>1</th>\n",
              "      <td>0003-MKNFE</td>\n",
              "      <td>0</td>\n",
              "      <td>Hombre</td>\n",
              "      <td>0</td>\n",
              "      <td>0</td>\n",
              "      <td>0</td>\n",
              "      <td>9</td>\n",
              "      <td>1</td>\n",
              "      <td>1</td>\n",
              "      <td>Línea DSL</td>\n",
              "      <td>...</td>\n",
              "      <td>0</td>\n",
              "      <td>0</td>\n",
              "      <td>0</td>\n",
              "      <td>0</td>\n",
              "      <td>1</td>\n",
              "      <td>Mes a mes</td>\n",
              "      <td>0</td>\n",
              "      <td>Cheque por correo</td>\n",
              "      <td>59.9</td>\n",
              "      <td>542.40</td>\n",
              "    </tr>\n",
              "    <tr>\n",
              "      <th>2</th>\n",
              "      <td>0004-TLHLJ</td>\n",
              "      <td>1</td>\n",
              "      <td>Hombre</td>\n",
              "      <td>0</td>\n",
              "      <td>0</td>\n",
              "      <td>0</td>\n",
              "      <td>4</td>\n",
              "      <td>1</td>\n",
              "      <td>0</td>\n",
              "      <td>Fibra óptica</td>\n",
              "      <td>...</td>\n",
              "      <td>0</td>\n",
              "      <td>1</td>\n",
              "      <td>0</td>\n",
              "      <td>0</td>\n",
              "      <td>0</td>\n",
              "      <td>Mes a mes</td>\n",
              "      <td>1</td>\n",
              "      <td>Factura electrónica</td>\n",
              "      <td>73.9</td>\n",
              "      <td>280.85</td>\n",
              "    </tr>\n",
              "    <tr>\n",
              "      <th>3</th>\n",
              "      <td>0011-IGKFF</td>\n",
              "      <td>1</td>\n",
              "      <td>Hombre</td>\n",
              "      <td>1</td>\n",
              "      <td>1</td>\n",
              "      <td>0</td>\n",
              "      <td>13</td>\n",
              "      <td>1</td>\n",
              "      <td>0</td>\n",
              "      <td>Fibra óptica</td>\n",
              "      <td>...</td>\n",
              "      <td>1</td>\n",
              "      <td>1</td>\n",
              "      <td>0</td>\n",
              "      <td>1</td>\n",
              "      <td>1</td>\n",
              "      <td>Mes a mes</td>\n",
              "      <td>1</td>\n",
              "      <td>Factura electrónica</td>\n",
              "      <td>98.0</td>\n",
              "      <td>1237.85</td>\n",
              "    </tr>\n",
              "    <tr>\n",
              "      <th>4</th>\n",
              "      <td>0013-EXCHZ</td>\n",
              "      <td>1</td>\n",
              "      <td>Mujer</td>\n",
              "      <td>1</td>\n",
              "      <td>1</td>\n",
              "      <td>0</td>\n",
              "      <td>3</td>\n",
              "      <td>1</td>\n",
              "      <td>0</td>\n",
              "      <td>Fibra óptica</td>\n",
              "      <td>...</td>\n",
              "      <td>0</td>\n",
              "      <td>0</td>\n",
              "      <td>1</td>\n",
              "      <td>1</td>\n",
              "      <td>0</td>\n",
              "      <td>Mes a mes</td>\n",
              "      <td>1</td>\n",
              "      <td>Cheque por correo</td>\n",
              "      <td>83.9</td>\n",
              "      <td>267.40</td>\n",
              "    </tr>\n",
              "  </tbody>\n",
              "</table>\n",
              "<p>5 rows × 21 columns</p>\n",
              "</div>\n",
              "    <div class=\"colab-df-buttons\">\n",
              "\n",
              "  <div class=\"colab-df-container\">\n",
              "    <button class=\"colab-df-convert\" onclick=\"convertToInteractive('df-0ec696cb-1a1f-40cb-a647-d4f6556e53eb')\"\n",
              "            title=\"Convert this dataframe to an interactive table.\"\n",
              "            style=\"display:none;\">\n",
              "\n",
              "  <svg xmlns=\"http://www.w3.org/2000/svg\" height=\"24px\" viewBox=\"0 -960 960 960\">\n",
              "    <path d=\"M120-120v-720h720v720H120Zm60-500h600v-160H180v160Zm220 220h160v-160H400v160Zm0 220h160v-160H400v160ZM180-400h160v-160H180v160Zm440 0h160v-160H620v160ZM180-180h160v-160H180v160Zm440 0h160v-160H620v160Z\"/>\n",
              "  </svg>\n",
              "    </button>\n",
              "\n",
              "  <style>\n",
              "    .colab-df-container {\n",
              "      display:flex;\n",
              "      gap: 12px;\n",
              "    }\n",
              "\n",
              "    .colab-df-convert {\n",
              "      background-color: #E8F0FE;\n",
              "      border: none;\n",
              "      border-radius: 50%;\n",
              "      cursor: pointer;\n",
              "      display: none;\n",
              "      fill: #1967D2;\n",
              "      height: 32px;\n",
              "      padding: 0 0 0 0;\n",
              "      width: 32px;\n",
              "    }\n",
              "\n",
              "    .colab-df-convert:hover {\n",
              "      background-color: #E2EBFA;\n",
              "      box-shadow: 0px 1px 2px rgba(60, 64, 67, 0.3), 0px 1px 3px 1px rgba(60, 64, 67, 0.15);\n",
              "      fill: #174EA6;\n",
              "    }\n",
              "\n",
              "    .colab-df-buttons div {\n",
              "      margin-bottom: 4px;\n",
              "    }\n",
              "\n",
              "    [theme=dark] .colab-df-convert {\n",
              "      background-color: #3B4455;\n",
              "      fill: #D2E3FC;\n",
              "    }\n",
              "\n",
              "    [theme=dark] .colab-df-convert:hover {\n",
              "      background-color: #434B5C;\n",
              "      box-shadow: 0px 1px 3px 1px rgba(0, 0, 0, 0.15);\n",
              "      filter: drop-shadow(0px 1px 2px rgba(0, 0, 0, 0.3));\n",
              "      fill: #FFFFFF;\n",
              "    }\n",
              "  </style>\n",
              "\n",
              "    <script>\n",
              "      const buttonEl =\n",
              "        document.querySelector('#df-0ec696cb-1a1f-40cb-a647-d4f6556e53eb button.colab-df-convert');\n",
              "      buttonEl.style.display =\n",
              "        google.colab.kernel.accessAllowed ? 'block' : 'none';\n",
              "\n",
              "      async function convertToInteractive(key) {\n",
              "        const element = document.querySelector('#df-0ec696cb-1a1f-40cb-a647-d4f6556e53eb');\n",
              "        const dataTable =\n",
              "          await google.colab.kernel.invokeFunction('convertToInteractive',\n",
              "                                                    [key], {});\n",
              "        if (!dataTable) return;\n",
              "\n",
              "        const docLinkHtml = 'Like what you see? Visit the ' +\n",
              "          '<a target=\"_blank\" href=https://colab.research.google.com/notebooks/data_table.ipynb>data table notebook</a>'\n",
              "          + ' to learn more about interactive tables.';\n",
              "        element.innerHTML = '';\n",
              "        dataTable['output_type'] = 'display_data';\n",
              "        await google.colab.output.renderOutput(dataTable, element);\n",
              "        const docLink = document.createElement('div');\n",
              "        docLink.innerHTML = docLinkHtml;\n",
              "        element.appendChild(docLink);\n",
              "      }\n",
              "    </script>\n",
              "  </div>\n",
              "\n",
              "\n",
              "    <div id=\"df-76f7794f-9b96-4300-a34e-dab3274372ee\">\n",
              "      <button class=\"colab-df-quickchart\" onclick=\"quickchart('df-76f7794f-9b96-4300-a34e-dab3274372ee')\"\n",
              "                title=\"Suggest charts\"\n",
              "                style=\"display:none;\">\n",
              "\n",
              "<svg xmlns=\"http://www.w3.org/2000/svg\" height=\"24px\"viewBox=\"0 0 24 24\"\n",
              "     width=\"24px\">\n",
              "    <g>\n",
              "        <path d=\"M19 3H5c-1.1 0-2 .9-2 2v14c0 1.1.9 2 2 2h14c1.1 0 2-.9 2-2V5c0-1.1-.9-2-2-2zM9 17H7v-7h2v7zm4 0h-2V7h2v10zm4 0h-2v-4h2v4z\"/>\n",
              "    </g>\n",
              "</svg>\n",
              "      </button>\n",
              "\n",
              "<style>\n",
              "  .colab-df-quickchart {\n",
              "      --bg-color: #E8F0FE;\n",
              "      --fill-color: #1967D2;\n",
              "      --hover-bg-color: #E2EBFA;\n",
              "      --hover-fill-color: #174EA6;\n",
              "      --disabled-fill-color: #AAA;\n",
              "      --disabled-bg-color: #DDD;\n",
              "  }\n",
              "\n",
              "  [theme=dark] .colab-df-quickchart {\n",
              "      --bg-color: #3B4455;\n",
              "      --fill-color: #D2E3FC;\n",
              "      --hover-bg-color: #434B5C;\n",
              "      --hover-fill-color: #FFFFFF;\n",
              "      --disabled-bg-color: #3B4455;\n",
              "      --disabled-fill-color: #666;\n",
              "  }\n",
              "\n",
              "  .colab-df-quickchart {\n",
              "    background-color: var(--bg-color);\n",
              "    border: none;\n",
              "    border-radius: 50%;\n",
              "    cursor: pointer;\n",
              "    display: none;\n",
              "    fill: var(--fill-color);\n",
              "    height: 32px;\n",
              "    padding: 0;\n",
              "    width: 32px;\n",
              "  }\n",
              "\n",
              "  .colab-df-quickchart:hover {\n",
              "    background-color: var(--hover-bg-color);\n",
              "    box-shadow: 0 1px 2px rgba(60, 64, 67, 0.3), 0 1px 3px 1px rgba(60, 64, 67, 0.15);\n",
              "    fill: var(--button-hover-fill-color);\n",
              "  }\n",
              "\n",
              "  .colab-df-quickchart-complete:disabled,\n",
              "  .colab-df-quickchart-complete:disabled:hover {\n",
              "    background-color: var(--disabled-bg-color);\n",
              "    fill: var(--disabled-fill-color);\n",
              "    box-shadow: none;\n",
              "  }\n",
              "\n",
              "  .colab-df-spinner {\n",
              "    border: 2px solid var(--fill-color);\n",
              "    border-color: transparent;\n",
              "    border-bottom-color: var(--fill-color);\n",
              "    animation:\n",
              "      spin 1s steps(1) infinite;\n",
              "  }\n",
              "\n",
              "  @keyframes spin {\n",
              "    0% {\n",
              "      border-color: transparent;\n",
              "      border-bottom-color: var(--fill-color);\n",
              "      border-left-color: var(--fill-color);\n",
              "    }\n",
              "    20% {\n",
              "      border-color: transparent;\n",
              "      border-left-color: var(--fill-color);\n",
              "      border-top-color: var(--fill-color);\n",
              "    }\n",
              "    30% {\n",
              "      border-color: transparent;\n",
              "      border-left-color: var(--fill-color);\n",
              "      border-top-color: var(--fill-color);\n",
              "      border-right-color: var(--fill-color);\n",
              "    }\n",
              "    40% {\n",
              "      border-color: transparent;\n",
              "      border-right-color: var(--fill-color);\n",
              "      border-top-color: var(--fill-color);\n",
              "    }\n",
              "    60% {\n",
              "      border-color: transparent;\n",
              "      border-right-color: var(--fill-color);\n",
              "    }\n",
              "    80% {\n",
              "      border-color: transparent;\n",
              "      border-right-color: var(--fill-color);\n",
              "      border-bottom-color: var(--fill-color);\n",
              "    }\n",
              "    90% {\n",
              "      border-color: transparent;\n",
              "      border-bottom-color: var(--fill-color);\n",
              "    }\n",
              "  }\n",
              "</style>\n",
              "\n",
              "      <script>\n",
              "        async function quickchart(key) {\n",
              "          const quickchartButtonEl =\n",
              "            document.querySelector('#' + key + ' button');\n",
              "          quickchartButtonEl.disabled = true;  // To prevent multiple clicks.\n",
              "          quickchartButtonEl.classList.add('colab-df-spinner');\n",
              "          try {\n",
              "            const charts = await google.colab.kernel.invokeFunction(\n",
              "                'suggestCharts', [key], {});\n",
              "          } catch (error) {\n",
              "            console.error('Error during call to suggestCharts:', error);\n",
              "          }\n",
              "          quickchartButtonEl.classList.remove('colab-df-spinner');\n",
              "          quickchartButtonEl.classList.add('colab-df-quickchart-complete');\n",
              "        }\n",
              "        (() => {\n",
              "          let quickchartButtonEl =\n",
              "            document.querySelector('#df-76f7794f-9b96-4300-a34e-dab3274372ee button');\n",
              "          quickchartButtonEl.style.display =\n",
              "            google.colab.kernel.accessAllowed ? 'block' : 'none';\n",
              "        })();\n",
              "      </script>\n",
              "    </div>\n",
              "\n",
              "    </div>\n",
              "  </div>\n"
            ],
            "application/vnd.google.colaboratory.intrinsic+json": {
              "type": "dataframe",
              "variable_name": "datos_TelecomX_Fla"
            }
          },
          "metadata": {},
          "execution_count": 91
        }
      ]
    },
    {
      "cell_type": "markdown",
      "source": [
        "####Crear la columna \"Cuentas_Diarias\""
      ],
      "metadata": {
        "id": "exxya9GNVGFm"
      }
    },
    {
      "cell_type": "code",
      "source": [
        "import pandas as pd\n",
        "import numpy as np"
      ],
      "metadata": {
        "id": "s6ibQbjFUrOa"
      },
      "execution_count": 92,
      "outputs": []
    },
    {
      "cell_type": "code",
      "source": [
        "# TotalCharges esté en formato numérico\n",
        "datos_TelecomX_Fla['Cargos_totales'] = pd.to_numeric(datos_TelecomX_Fla['Cargos_totales'], errors='coerce')"
      ],
      "metadata": {
        "id": "_NICCtkNYIY6"
      },
      "execution_count": 93,
      "outputs": []
    },
    {
      "cell_type": "code",
      "source": [
        "# Se evita divisiones por cero o nulas\n",
        "datos_TelecomX_Fla['Cuentas_Diarias'] = datos_TelecomX_Fla.apply(\n",
        "    lambda row: row['Cargos_totales'] / (row['Cancelación'] * 30.44)\n",
        "    if row['Cancelación'] > 0 else np.nan,\n",
        "    axis=1)"
      ],
      "metadata": {
        "id": "SFCxFVrSYRTk"
      },
      "execution_count": 94,
      "outputs": []
    },
    {
      "cell_type": "code",
      "source": [
        "# Redondear a 2 decimales para claridad\n",
        "datos_TelecomX_Fla['Cuentas_Diarias'] = datos_TelecomX_Fla['Cuentas_Diarias'].round(2)\n"
      ],
      "metadata": {
        "id": "TiNm5yHIYmOk"
      },
      "execution_count": 95,
      "outputs": []
    },
    {
      "cell_type": "code",
      "source": [
        "datos_TelecomX_Fla.head()"
      ],
      "metadata": {
        "colab": {
          "base_uri": "https://localhost:8080/",
          "height": 342
        },
        "id": "7Aug1DoaY73T",
        "outputId": "88b38e37-3b08-4def-c71a-f944269de714"
      },
      "execution_count": 96,
      "outputs": [
        {
          "output_type": "execute_result",
          "data": {
            "text/plain": [
              "   Id_cliente  Cancelación  Genero  Ciudadano_senior  Tiene_pareja  \\\n",
              "0  0002-ORFBO            0   Mujer                 0             1   \n",
              "1  0003-MKNFE            0  Hombre                 0             0   \n",
              "2  0004-TLHLJ            1  Hombre                 0             0   \n",
              "3  0011-IGKFF            1  Hombre                 1             1   \n",
              "4  0013-EXCHZ            1   Mujer                 1             1   \n",
              "\n",
              "   Tiene_dependientes  Meses_de_cliente  Servicio_telefonico  \\\n",
              "0                   1                 9                    1   \n",
              "1                   0                 9                    1   \n",
              "2                   0                 4                    1   \n",
              "3                   0                13                    1   \n",
              "4                   0                 3                    1   \n",
              "\n",
              "   Lineas_multiples Tipo_internet  ...  Proteccion_dispositivo  \\\n",
              "0                 0     Línea DSL  ...                       0   \n",
              "1                 1     Línea DSL  ...                       0   \n",
              "2                 0  Fibra óptica  ...                       1   \n",
              "3                 0  Fibra óptica  ...                       1   \n",
              "4                 0  Fibra óptica  ...                       0   \n",
              "\n",
              "   Soporte_tecnico  Tv_streaming  Peliculas_streaming  Tipo_contrato  \\\n",
              "0                1             1                    0         Un año   \n",
              "1                0             0                    1      Mes a mes   \n",
              "2                0             0                    0      Mes a mes   \n",
              "3                0             1                    1      Mes a mes   \n",
              "4                1             1                    0      Mes a mes   \n",
              "\n",
              "   Factura_electronica          Metodo_pago  Cargos_mensuales Cargos_totales  \\\n",
              "0                    1    Cheque por correo              65.6         593.30   \n",
              "1                    0    Cheque por correo              59.9         542.40   \n",
              "2                    1  Factura electrónica              73.9         280.85   \n",
              "3                    1  Factura electrónica              98.0        1237.85   \n",
              "4                    1    Cheque por correo              83.9         267.40   \n",
              "\n",
              "   Cuentas_Diarias  \n",
              "0              NaN  \n",
              "1              NaN  \n",
              "2             9.23  \n",
              "3            40.67  \n",
              "4             8.78  \n",
              "\n",
              "[5 rows x 22 columns]"
            ],
            "text/html": [
              "\n",
              "  <div id=\"df-dd9b5005-d24b-4aa3-95b0-4763aa700dba\" class=\"colab-df-container\">\n",
              "    <div>\n",
              "<style scoped>\n",
              "    .dataframe tbody tr th:only-of-type {\n",
              "        vertical-align: middle;\n",
              "    }\n",
              "\n",
              "    .dataframe tbody tr th {\n",
              "        vertical-align: top;\n",
              "    }\n",
              "\n",
              "    .dataframe thead th {\n",
              "        text-align: right;\n",
              "    }\n",
              "</style>\n",
              "<table border=\"1\" class=\"dataframe\">\n",
              "  <thead>\n",
              "    <tr style=\"text-align: right;\">\n",
              "      <th></th>\n",
              "      <th>Id_cliente</th>\n",
              "      <th>Cancelación</th>\n",
              "      <th>Genero</th>\n",
              "      <th>Ciudadano_senior</th>\n",
              "      <th>Tiene_pareja</th>\n",
              "      <th>Tiene_dependientes</th>\n",
              "      <th>Meses_de_cliente</th>\n",
              "      <th>Servicio_telefonico</th>\n",
              "      <th>Lineas_multiples</th>\n",
              "      <th>Tipo_internet</th>\n",
              "      <th>...</th>\n",
              "      <th>Proteccion_dispositivo</th>\n",
              "      <th>Soporte_tecnico</th>\n",
              "      <th>Tv_streaming</th>\n",
              "      <th>Peliculas_streaming</th>\n",
              "      <th>Tipo_contrato</th>\n",
              "      <th>Factura_electronica</th>\n",
              "      <th>Metodo_pago</th>\n",
              "      <th>Cargos_mensuales</th>\n",
              "      <th>Cargos_totales</th>\n",
              "      <th>Cuentas_Diarias</th>\n",
              "    </tr>\n",
              "  </thead>\n",
              "  <tbody>\n",
              "    <tr>\n",
              "      <th>0</th>\n",
              "      <td>0002-ORFBO</td>\n",
              "      <td>0</td>\n",
              "      <td>Mujer</td>\n",
              "      <td>0</td>\n",
              "      <td>1</td>\n",
              "      <td>1</td>\n",
              "      <td>9</td>\n",
              "      <td>1</td>\n",
              "      <td>0</td>\n",
              "      <td>Línea DSL</td>\n",
              "      <td>...</td>\n",
              "      <td>0</td>\n",
              "      <td>1</td>\n",
              "      <td>1</td>\n",
              "      <td>0</td>\n",
              "      <td>Un año</td>\n",
              "      <td>1</td>\n",
              "      <td>Cheque por correo</td>\n",
              "      <td>65.6</td>\n",
              "      <td>593.30</td>\n",
              "      <td>NaN</td>\n",
              "    </tr>\n",
              "    <tr>\n",
              "      <th>1</th>\n",
              "      <td>0003-MKNFE</td>\n",
              "      <td>0</td>\n",
              "      <td>Hombre</td>\n",
              "      <td>0</td>\n",
              "      <td>0</td>\n",
              "      <td>0</td>\n",
              "      <td>9</td>\n",
              "      <td>1</td>\n",
              "      <td>1</td>\n",
              "      <td>Línea DSL</td>\n",
              "      <td>...</td>\n",
              "      <td>0</td>\n",
              "      <td>0</td>\n",
              "      <td>0</td>\n",
              "      <td>1</td>\n",
              "      <td>Mes a mes</td>\n",
              "      <td>0</td>\n",
              "      <td>Cheque por correo</td>\n",
              "      <td>59.9</td>\n",
              "      <td>542.40</td>\n",
              "      <td>NaN</td>\n",
              "    </tr>\n",
              "    <tr>\n",
              "      <th>2</th>\n",
              "      <td>0004-TLHLJ</td>\n",
              "      <td>1</td>\n",
              "      <td>Hombre</td>\n",
              "      <td>0</td>\n",
              "      <td>0</td>\n",
              "      <td>0</td>\n",
              "      <td>4</td>\n",
              "      <td>1</td>\n",
              "      <td>0</td>\n",
              "      <td>Fibra óptica</td>\n",
              "      <td>...</td>\n",
              "      <td>1</td>\n",
              "      <td>0</td>\n",
              "      <td>0</td>\n",
              "      <td>0</td>\n",
              "      <td>Mes a mes</td>\n",
              "      <td>1</td>\n",
              "      <td>Factura electrónica</td>\n",
              "      <td>73.9</td>\n",
              "      <td>280.85</td>\n",
              "      <td>9.23</td>\n",
              "    </tr>\n",
              "    <tr>\n",
              "      <th>3</th>\n",
              "      <td>0011-IGKFF</td>\n",
              "      <td>1</td>\n",
              "      <td>Hombre</td>\n",
              "      <td>1</td>\n",
              "      <td>1</td>\n",
              "      <td>0</td>\n",
              "      <td>13</td>\n",
              "      <td>1</td>\n",
              "      <td>0</td>\n",
              "      <td>Fibra óptica</td>\n",
              "      <td>...</td>\n",
              "      <td>1</td>\n",
              "      <td>0</td>\n",
              "      <td>1</td>\n",
              "      <td>1</td>\n",
              "      <td>Mes a mes</td>\n",
              "      <td>1</td>\n",
              "      <td>Factura electrónica</td>\n",
              "      <td>98.0</td>\n",
              "      <td>1237.85</td>\n",
              "      <td>40.67</td>\n",
              "    </tr>\n",
              "    <tr>\n",
              "      <th>4</th>\n",
              "      <td>0013-EXCHZ</td>\n",
              "      <td>1</td>\n",
              "      <td>Mujer</td>\n",
              "      <td>1</td>\n",
              "      <td>1</td>\n",
              "      <td>0</td>\n",
              "      <td>3</td>\n",
              "      <td>1</td>\n",
              "      <td>0</td>\n",
              "      <td>Fibra óptica</td>\n",
              "      <td>...</td>\n",
              "      <td>0</td>\n",
              "      <td>1</td>\n",
              "      <td>1</td>\n",
              "      <td>0</td>\n",
              "      <td>Mes a mes</td>\n",
              "      <td>1</td>\n",
              "      <td>Cheque por correo</td>\n",
              "      <td>83.9</td>\n",
              "      <td>267.40</td>\n",
              "      <td>8.78</td>\n",
              "    </tr>\n",
              "  </tbody>\n",
              "</table>\n",
              "<p>5 rows × 22 columns</p>\n",
              "</div>\n",
              "    <div class=\"colab-df-buttons\">\n",
              "\n",
              "  <div class=\"colab-df-container\">\n",
              "    <button class=\"colab-df-convert\" onclick=\"convertToInteractive('df-dd9b5005-d24b-4aa3-95b0-4763aa700dba')\"\n",
              "            title=\"Convert this dataframe to an interactive table.\"\n",
              "            style=\"display:none;\">\n",
              "\n",
              "  <svg xmlns=\"http://www.w3.org/2000/svg\" height=\"24px\" viewBox=\"0 -960 960 960\">\n",
              "    <path d=\"M120-120v-720h720v720H120Zm60-500h600v-160H180v160Zm220 220h160v-160H400v160Zm0 220h160v-160H400v160ZM180-400h160v-160H180v160Zm440 0h160v-160H620v160ZM180-180h160v-160H180v160Zm440 0h160v-160H620v160Z\"/>\n",
              "  </svg>\n",
              "    </button>\n",
              "\n",
              "  <style>\n",
              "    .colab-df-container {\n",
              "      display:flex;\n",
              "      gap: 12px;\n",
              "    }\n",
              "\n",
              "    .colab-df-convert {\n",
              "      background-color: #E8F0FE;\n",
              "      border: none;\n",
              "      border-radius: 50%;\n",
              "      cursor: pointer;\n",
              "      display: none;\n",
              "      fill: #1967D2;\n",
              "      height: 32px;\n",
              "      padding: 0 0 0 0;\n",
              "      width: 32px;\n",
              "    }\n",
              "\n",
              "    .colab-df-convert:hover {\n",
              "      background-color: #E2EBFA;\n",
              "      box-shadow: 0px 1px 2px rgba(60, 64, 67, 0.3), 0px 1px 3px 1px rgba(60, 64, 67, 0.15);\n",
              "      fill: #174EA6;\n",
              "    }\n",
              "\n",
              "    .colab-df-buttons div {\n",
              "      margin-bottom: 4px;\n",
              "    }\n",
              "\n",
              "    [theme=dark] .colab-df-convert {\n",
              "      background-color: #3B4455;\n",
              "      fill: #D2E3FC;\n",
              "    }\n",
              "\n",
              "    [theme=dark] .colab-df-convert:hover {\n",
              "      background-color: #434B5C;\n",
              "      box-shadow: 0px 1px 3px 1px rgba(0, 0, 0, 0.15);\n",
              "      filter: drop-shadow(0px 1px 2px rgba(0, 0, 0, 0.3));\n",
              "      fill: #FFFFFF;\n",
              "    }\n",
              "  </style>\n",
              "\n",
              "    <script>\n",
              "      const buttonEl =\n",
              "        document.querySelector('#df-dd9b5005-d24b-4aa3-95b0-4763aa700dba button.colab-df-convert');\n",
              "      buttonEl.style.display =\n",
              "        google.colab.kernel.accessAllowed ? 'block' : 'none';\n",
              "\n",
              "      async function convertToInteractive(key) {\n",
              "        const element = document.querySelector('#df-dd9b5005-d24b-4aa3-95b0-4763aa700dba');\n",
              "        const dataTable =\n",
              "          await google.colab.kernel.invokeFunction('convertToInteractive',\n",
              "                                                    [key], {});\n",
              "        if (!dataTable) return;\n",
              "\n",
              "        const docLinkHtml = 'Like what you see? Visit the ' +\n",
              "          '<a target=\"_blank\" href=https://colab.research.google.com/notebooks/data_table.ipynb>data table notebook</a>'\n",
              "          + ' to learn more about interactive tables.';\n",
              "        element.innerHTML = '';\n",
              "        dataTable['output_type'] = 'display_data';\n",
              "        await google.colab.output.renderOutput(dataTable, element);\n",
              "        const docLink = document.createElement('div');\n",
              "        docLink.innerHTML = docLinkHtml;\n",
              "        element.appendChild(docLink);\n",
              "      }\n",
              "    </script>\n",
              "  </div>\n",
              "\n",
              "\n",
              "    <div id=\"df-4d5bfc23-ef8d-43a3-99c9-cceb1b7c4c46\">\n",
              "      <button class=\"colab-df-quickchart\" onclick=\"quickchart('df-4d5bfc23-ef8d-43a3-99c9-cceb1b7c4c46')\"\n",
              "                title=\"Suggest charts\"\n",
              "                style=\"display:none;\">\n",
              "\n",
              "<svg xmlns=\"http://www.w3.org/2000/svg\" height=\"24px\"viewBox=\"0 0 24 24\"\n",
              "     width=\"24px\">\n",
              "    <g>\n",
              "        <path d=\"M19 3H5c-1.1 0-2 .9-2 2v14c0 1.1.9 2 2 2h14c1.1 0 2-.9 2-2V5c0-1.1-.9-2-2-2zM9 17H7v-7h2v7zm4 0h-2V7h2v10zm4 0h-2v-4h2v4z\"/>\n",
              "    </g>\n",
              "</svg>\n",
              "      </button>\n",
              "\n",
              "<style>\n",
              "  .colab-df-quickchart {\n",
              "      --bg-color: #E8F0FE;\n",
              "      --fill-color: #1967D2;\n",
              "      --hover-bg-color: #E2EBFA;\n",
              "      --hover-fill-color: #174EA6;\n",
              "      --disabled-fill-color: #AAA;\n",
              "      --disabled-bg-color: #DDD;\n",
              "  }\n",
              "\n",
              "  [theme=dark] .colab-df-quickchart {\n",
              "      --bg-color: #3B4455;\n",
              "      --fill-color: #D2E3FC;\n",
              "      --hover-bg-color: #434B5C;\n",
              "      --hover-fill-color: #FFFFFF;\n",
              "      --disabled-bg-color: #3B4455;\n",
              "      --disabled-fill-color: #666;\n",
              "  }\n",
              "\n",
              "  .colab-df-quickchart {\n",
              "    background-color: var(--bg-color);\n",
              "    border: none;\n",
              "    border-radius: 50%;\n",
              "    cursor: pointer;\n",
              "    display: none;\n",
              "    fill: var(--fill-color);\n",
              "    height: 32px;\n",
              "    padding: 0;\n",
              "    width: 32px;\n",
              "  }\n",
              "\n",
              "  .colab-df-quickchart:hover {\n",
              "    background-color: var(--hover-bg-color);\n",
              "    box-shadow: 0 1px 2px rgba(60, 64, 67, 0.3), 0 1px 3px 1px rgba(60, 64, 67, 0.15);\n",
              "    fill: var(--button-hover-fill-color);\n",
              "  }\n",
              "\n",
              "  .colab-df-quickchart-complete:disabled,\n",
              "  .colab-df-quickchart-complete:disabled:hover {\n",
              "    background-color: var(--disabled-bg-color);\n",
              "    fill: var(--disabled-fill-color);\n",
              "    box-shadow: none;\n",
              "  }\n",
              "\n",
              "  .colab-df-spinner {\n",
              "    border: 2px solid var(--fill-color);\n",
              "    border-color: transparent;\n",
              "    border-bottom-color: var(--fill-color);\n",
              "    animation:\n",
              "      spin 1s steps(1) infinite;\n",
              "  }\n",
              "\n",
              "  @keyframes spin {\n",
              "    0% {\n",
              "      border-color: transparent;\n",
              "      border-bottom-color: var(--fill-color);\n",
              "      border-left-color: var(--fill-color);\n",
              "    }\n",
              "    20% {\n",
              "      border-color: transparent;\n",
              "      border-left-color: var(--fill-color);\n",
              "      border-top-color: var(--fill-color);\n",
              "    }\n",
              "    30% {\n",
              "      border-color: transparent;\n",
              "      border-left-color: var(--fill-color);\n",
              "      border-top-color: var(--fill-color);\n",
              "      border-right-color: var(--fill-color);\n",
              "    }\n",
              "    40% {\n",
              "      border-color: transparent;\n",
              "      border-right-color: var(--fill-color);\n",
              "      border-top-color: var(--fill-color);\n",
              "    }\n",
              "    60% {\n",
              "      border-color: transparent;\n",
              "      border-right-color: var(--fill-color);\n",
              "    }\n",
              "    80% {\n",
              "      border-color: transparent;\n",
              "      border-right-color: var(--fill-color);\n",
              "      border-bottom-color: var(--fill-color);\n",
              "    }\n",
              "    90% {\n",
              "      border-color: transparent;\n",
              "      border-bottom-color: var(--fill-color);\n",
              "    }\n",
              "  }\n",
              "</style>\n",
              "\n",
              "      <script>\n",
              "        async function quickchart(key) {\n",
              "          const quickchartButtonEl =\n",
              "            document.querySelector('#' + key + ' button');\n",
              "          quickchartButtonEl.disabled = true;  // To prevent multiple clicks.\n",
              "          quickchartButtonEl.classList.add('colab-df-spinner');\n",
              "          try {\n",
              "            const charts = await google.colab.kernel.invokeFunction(\n",
              "                'suggestCharts', [key], {});\n",
              "          } catch (error) {\n",
              "            console.error('Error during call to suggestCharts:', error);\n",
              "          }\n",
              "          quickchartButtonEl.classList.remove('colab-df-spinner');\n",
              "          quickchartButtonEl.classList.add('colab-df-quickchart-complete');\n",
              "        }\n",
              "        (() => {\n",
              "          let quickchartButtonEl =\n",
              "            document.querySelector('#df-4d5bfc23-ef8d-43a3-99c9-cceb1b7c4c46 button');\n",
              "          quickchartButtonEl.style.display =\n",
              "            google.colab.kernel.accessAllowed ? 'block' : 'none';\n",
              "        })();\n",
              "      </script>\n",
              "    </div>\n",
              "\n",
              "    </div>\n",
              "  </div>\n"
            ],
            "application/vnd.google.colaboratory.intrinsic+json": {
              "type": "dataframe",
              "variable_name": "datos_TelecomX_Fla"
            }
          },
          "metadata": {},
          "execution_count": 96
        }
      ]
    },
    {
      "cell_type": "code",
      "source": [
        "datos_TelecomX_Fla.info()"
      ],
      "metadata": {
        "colab": {
          "base_uri": "https://localhost:8080/"
        },
        "id": "yip-2vxxpvKJ",
        "outputId": "f0de21b6-4924-45fa-9b94-f8b8c5643a7a"
      },
      "execution_count": 97,
      "outputs": [
        {
          "output_type": "stream",
          "name": "stdout",
          "text": [
            "<class 'pandas.core.frame.DataFrame'>\n",
            "RangeIndex: 7267 entries, 0 to 7266\n",
            "Data columns (total 22 columns):\n",
            " #   Column                  Non-Null Count  Dtype  \n",
            "---  ------                  --------------  -----  \n",
            " 0   Id_cliente              7267 non-null   object \n",
            " 1   Cancelación             7267 non-null   int64  \n",
            " 2   Genero                  7267 non-null   object \n",
            " 3   Ciudadano_senior        7267 non-null   int64  \n",
            " 4   Tiene_pareja            7267 non-null   int64  \n",
            " 5   Tiene_dependientes      7267 non-null   int64  \n",
            " 6   Meses_de_cliente        7267 non-null   int64  \n",
            " 7   Servicio_telefonico     7267 non-null   int64  \n",
            " 8   Lineas_multiples        7267 non-null   int64  \n",
            " 9   Tipo_internet           7267 non-null   object \n",
            " 10  Seguridad_online        7267 non-null   int64  \n",
            " 11  Respaldo_online         7267 non-null   int64  \n",
            " 12  Proteccion_dispositivo  7267 non-null   int64  \n",
            " 13  Soporte_tecnico         7267 non-null   int64  \n",
            " 14  Tv_streaming            7267 non-null   int64  \n",
            " 15  Peliculas_streaming     7267 non-null   int64  \n",
            " 16  Tipo_contrato           7267 non-null   object \n",
            " 17  Factura_electronica     7267 non-null   int64  \n",
            " 18  Metodo_pago             7267 non-null   object \n",
            " 19  Cargos_mensuales        7267 non-null   float64\n",
            " 20  Cargos_totales          7267 non-null   float64\n",
            " 21  Cuentas_Diarias         1869 non-null   float64\n",
            "dtypes: float64(3), int64(14), object(5)\n",
            "memory usage: 1.2+ MB\n"
          ]
        }
      ]
    },
    {
      "cell_type": "markdown",
      "source": [
        "####Ver cuántos valores NaN hay"
      ],
      "metadata": {
        "id": "yjpmyfPgsX5L"
      }
    },
    {
      "cell_type": "code",
      "source": [
        "n_nan = datos_TelecomX_Fla['Cuentas_Diarias'].isna().sum()\n",
        "print(f\"Hay {n_nan} valores NaN en 'Cuentas_Diarias'.\")"
      ],
      "metadata": {
        "colab": {
          "base_uri": "https://localhost:8080/"
        },
        "id": "YbyKNQ3nsZ7V",
        "outputId": "a8d282b2-3f80-4f45-83c7-ae44f2bc21fb"
      },
      "execution_count": 98,
      "outputs": [
        {
          "output_type": "stream",
          "name": "stdout",
          "text": [
            "Hay 5398 valores NaN en 'Cuentas_Diarias'.\n"
          ]
        }
      ]
    },
    {
      "cell_type": "code",
      "source": [
        "# Rellenar NaN con la media\n",
        "datos_TelecomX_Fla['Cuentas_Diarias'].fillna(media_charges, inplace=True)"
      ],
      "metadata": {
        "colab": {
          "base_uri": "https://localhost:8080/"
        },
        "id": "G7TZ65CBs27W",
        "outputId": "5af2e48b-e796-4463-aafb-f707fd5a0527"
      },
      "execution_count": 99,
      "outputs": [
        {
          "output_type": "stream",
          "name": "stderr",
          "text": [
            "<ipython-input-99-6886b4376c8b>:2: FutureWarning: A value is trying to be set on a copy of a DataFrame or Series through chained assignment using an inplace method.\n",
            "The behavior will change in pandas 3.0. This inplace method will never work because the intermediate object on which we are setting values always behaves as a copy.\n",
            "\n",
            "For example, when doing 'df[col].method(value, inplace=True)', try using 'df.method({col: value}, inplace=True)' or df[col] = df[col].method(value) instead, to perform the operation inplace on the original object.\n",
            "\n",
            "\n",
            "  datos_TelecomX_Fla['Cuentas_Diarias'].fillna(media_charges, inplace=True)\n"
          ]
        }
      ]
    },
    {
      "cell_type": "code",
      "source": [
        "print(f\"Se imputaron los valores faltantes con la media: {media_charges:.2f}\")"
      ],
      "metadata": {
        "colab": {
          "base_uri": "https://localhost:8080/"
        },
        "id": "2TyALmjVtJ6W",
        "outputId": "215bbfcb-8915-42cb-c2f1-9b73f53d7b7f"
      },
      "execution_count": 100,
      "outputs": [
        {
          "output_type": "stream",
          "name": "stdout",
          "text": [
            "Se imputaron los valores faltantes con la media: 2280.63\n"
          ]
        }
      ]
    },
    {
      "cell_type": "code",
      "source": [
        "datos_TelecomX_Fla.info()"
      ],
      "metadata": {
        "colab": {
          "base_uri": "https://localhost:8080/"
        },
        "id": "rPeNEgwZteiU",
        "outputId": "9ac15c15-9c37-4c7d-8dea-5ae62896ad18"
      },
      "execution_count": 101,
      "outputs": [
        {
          "output_type": "stream",
          "name": "stdout",
          "text": [
            "<class 'pandas.core.frame.DataFrame'>\n",
            "RangeIndex: 7267 entries, 0 to 7266\n",
            "Data columns (total 22 columns):\n",
            " #   Column                  Non-Null Count  Dtype  \n",
            "---  ------                  --------------  -----  \n",
            " 0   Id_cliente              7267 non-null   object \n",
            " 1   Cancelación             7267 non-null   int64  \n",
            " 2   Genero                  7267 non-null   object \n",
            " 3   Ciudadano_senior        7267 non-null   int64  \n",
            " 4   Tiene_pareja            7267 non-null   int64  \n",
            " 5   Tiene_dependientes      7267 non-null   int64  \n",
            " 6   Meses_de_cliente        7267 non-null   int64  \n",
            " 7   Servicio_telefonico     7267 non-null   int64  \n",
            " 8   Lineas_multiples        7267 non-null   int64  \n",
            " 9   Tipo_internet           7267 non-null   object \n",
            " 10  Seguridad_online        7267 non-null   int64  \n",
            " 11  Respaldo_online         7267 non-null   int64  \n",
            " 12  Proteccion_dispositivo  7267 non-null   int64  \n",
            " 13  Soporte_tecnico         7267 non-null   int64  \n",
            " 14  Tv_streaming            7267 non-null   int64  \n",
            " 15  Peliculas_streaming     7267 non-null   int64  \n",
            " 16  Tipo_contrato           7267 non-null   object \n",
            " 17  Factura_electronica     7267 non-null   int64  \n",
            " 18  Metodo_pago             7267 non-null   object \n",
            " 19  Cargos_mensuales        7267 non-null   float64\n",
            " 20  Cargos_totales          7267 non-null   float64\n",
            " 21  Cuentas_Diarias         7267 non-null   float64\n",
            "dtypes: float64(3), int64(14), object(5)\n",
            "memory usage: 1.2+ MB\n"
          ]
        }
      ]
    },
    {
      "cell_type": "markdown",
      "source": [
        "#📊 Carga y análisis"
      ],
      "metadata": {
        "id": "6O7rXetVg1iY"
      }
    },
    {
      "cell_type": "markdown",
      "source": [
        "###Análisis descriptivo de Clientes TelecomX"
      ],
      "metadata": {
        "id": "MiTWBzhbcU84"
      }
    },
    {
      "cell_type": "code",
      "source": [
        "datos_TelecomX_Fla.describe()"
      ],
      "metadata": {
        "colab": {
          "base_uri": "https://localhost:8080/",
          "height": 320
        },
        "id": "CxIOv73sbNSg",
        "outputId": "16e4e399-b04f-417b-a2ef-7e69dff0d5a3"
      },
      "execution_count": 102,
      "outputs": [
        {
          "output_type": "execute_result",
          "data": {
            "text/plain": [
              "       Cancelación  Ciudadano_senior  Tiene_pareja  Tiene_dependientes  \\\n",
              "count  7267.000000       7267.000000   7267.000000         7267.000000   \n",
              "mean      0.257190          0.162653      0.484106            0.300124   \n",
              "std       0.437115          0.369074      0.499782            0.458343   \n",
              "min       0.000000          0.000000      0.000000            0.000000   \n",
              "25%       0.000000          0.000000      0.000000            0.000000   \n",
              "50%       0.000000          0.000000      0.000000            0.000000   \n",
              "75%       1.000000          0.000000      1.000000            1.000000   \n",
              "max       1.000000          1.000000      1.000000            1.000000   \n",
              "\n",
              "       Meses_de_cliente  Servicio_telefonico  Lineas_multiples  \\\n",
              "count       7267.000000          7267.000000       7267.000000   \n",
              "mean          32.346498             0.902711          0.421770   \n",
              "std           24.571773             0.296371          0.493876   \n",
              "min            0.000000             0.000000          0.000000   \n",
              "25%            9.000000             1.000000          0.000000   \n",
              "50%           29.000000             1.000000          0.000000   \n",
              "75%           55.000000             1.000000          1.000000   \n",
              "max           72.000000             1.000000          1.000000   \n",
              "\n",
              "       Seguridad_online  Respaldo_online  Proteccion_dispositivo  \\\n",
              "count       7267.000000      7267.000000             7267.000000   \n",
              "mean           0.285950         0.344571                0.342782   \n",
              "std            0.451897         0.475261                0.474672   \n",
              "min            0.000000         0.000000                0.000000   \n",
              "25%            0.000000         0.000000                0.000000   \n",
              "50%            0.000000         0.000000                0.000000   \n",
              "75%            1.000000         1.000000                1.000000   \n",
              "max            1.000000         1.000000                1.000000   \n",
              "\n",
              "       Soporte_tecnico  Tv_streaming  Peliculas_streaming  \\\n",
              "count      7267.000000   7267.000000          7267.000000   \n",
              "mean          0.289528      0.383927             0.387505   \n",
              "std           0.453575      0.486374             0.487214   \n",
              "min           0.000000      0.000000             0.000000   \n",
              "25%           0.000000      0.000000             0.000000   \n",
              "50%           0.000000      0.000000             0.000000   \n",
              "75%           1.000000      1.000000             1.000000   \n",
              "max           1.000000      1.000000             1.000000   \n",
              "\n",
              "       Factura_electronica  Cargos_mensuales  Cargos_totales  Cuentas_Diarias  \n",
              "count          7267.000000       7267.000000     7267.000000      7267.000000  \n",
              "mean              0.593230         64.720098     2280.634213      1707.020080  \n",
              "std               0.491265         30.129572     2266.915104       975.411863  \n",
              "min               0.000000         18.250000       18.800000         0.620000  \n",
              "25%               0.000000         35.425000      401.400000       216.630000  \n",
              "50%               1.000000         70.300000     1394.550000      2280.634213  \n",
              "75%               1.000000         89.875000     3778.525000      2280.634213  \n",
              "max               1.000000        118.750000     8684.800000      2280.634213  "
            ],
            "text/html": [
              "\n",
              "  <div id=\"df-0ee0d974-f72c-429e-81ad-8938cb0bb0c2\" class=\"colab-df-container\">\n",
              "    <div>\n",
              "<style scoped>\n",
              "    .dataframe tbody tr th:only-of-type {\n",
              "        vertical-align: middle;\n",
              "    }\n",
              "\n",
              "    .dataframe tbody tr th {\n",
              "        vertical-align: top;\n",
              "    }\n",
              "\n",
              "    .dataframe thead th {\n",
              "        text-align: right;\n",
              "    }\n",
              "</style>\n",
              "<table border=\"1\" class=\"dataframe\">\n",
              "  <thead>\n",
              "    <tr style=\"text-align: right;\">\n",
              "      <th></th>\n",
              "      <th>Cancelación</th>\n",
              "      <th>Ciudadano_senior</th>\n",
              "      <th>Tiene_pareja</th>\n",
              "      <th>Tiene_dependientes</th>\n",
              "      <th>Meses_de_cliente</th>\n",
              "      <th>Servicio_telefonico</th>\n",
              "      <th>Lineas_multiples</th>\n",
              "      <th>Seguridad_online</th>\n",
              "      <th>Respaldo_online</th>\n",
              "      <th>Proteccion_dispositivo</th>\n",
              "      <th>Soporte_tecnico</th>\n",
              "      <th>Tv_streaming</th>\n",
              "      <th>Peliculas_streaming</th>\n",
              "      <th>Factura_electronica</th>\n",
              "      <th>Cargos_mensuales</th>\n",
              "      <th>Cargos_totales</th>\n",
              "      <th>Cuentas_Diarias</th>\n",
              "    </tr>\n",
              "  </thead>\n",
              "  <tbody>\n",
              "    <tr>\n",
              "      <th>count</th>\n",
              "      <td>7267.000000</td>\n",
              "      <td>7267.000000</td>\n",
              "      <td>7267.000000</td>\n",
              "      <td>7267.000000</td>\n",
              "      <td>7267.000000</td>\n",
              "      <td>7267.000000</td>\n",
              "      <td>7267.000000</td>\n",
              "      <td>7267.000000</td>\n",
              "      <td>7267.000000</td>\n",
              "      <td>7267.000000</td>\n",
              "      <td>7267.000000</td>\n",
              "      <td>7267.000000</td>\n",
              "      <td>7267.000000</td>\n",
              "      <td>7267.000000</td>\n",
              "      <td>7267.000000</td>\n",
              "      <td>7267.000000</td>\n",
              "      <td>7267.000000</td>\n",
              "    </tr>\n",
              "    <tr>\n",
              "      <th>mean</th>\n",
              "      <td>0.257190</td>\n",
              "      <td>0.162653</td>\n",
              "      <td>0.484106</td>\n",
              "      <td>0.300124</td>\n",
              "      <td>32.346498</td>\n",
              "      <td>0.902711</td>\n",
              "      <td>0.421770</td>\n",
              "      <td>0.285950</td>\n",
              "      <td>0.344571</td>\n",
              "      <td>0.342782</td>\n",
              "      <td>0.289528</td>\n",
              "      <td>0.383927</td>\n",
              "      <td>0.387505</td>\n",
              "      <td>0.593230</td>\n",
              "      <td>64.720098</td>\n",
              "      <td>2280.634213</td>\n",
              "      <td>1707.020080</td>\n",
              "    </tr>\n",
              "    <tr>\n",
              "      <th>std</th>\n",
              "      <td>0.437115</td>\n",
              "      <td>0.369074</td>\n",
              "      <td>0.499782</td>\n",
              "      <td>0.458343</td>\n",
              "      <td>24.571773</td>\n",
              "      <td>0.296371</td>\n",
              "      <td>0.493876</td>\n",
              "      <td>0.451897</td>\n",
              "      <td>0.475261</td>\n",
              "      <td>0.474672</td>\n",
              "      <td>0.453575</td>\n",
              "      <td>0.486374</td>\n",
              "      <td>0.487214</td>\n",
              "      <td>0.491265</td>\n",
              "      <td>30.129572</td>\n",
              "      <td>2266.915104</td>\n",
              "      <td>975.411863</td>\n",
              "    </tr>\n",
              "    <tr>\n",
              "      <th>min</th>\n",
              "      <td>0.000000</td>\n",
              "      <td>0.000000</td>\n",
              "      <td>0.000000</td>\n",
              "      <td>0.000000</td>\n",
              "      <td>0.000000</td>\n",
              "      <td>0.000000</td>\n",
              "      <td>0.000000</td>\n",
              "      <td>0.000000</td>\n",
              "      <td>0.000000</td>\n",
              "      <td>0.000000</td>\n",
              "      <td>0.000000</td>\n",
              "      <td>0.000000</td>\n",
              "      <td>0.000000</td>\n",
              "      <td>0.000000</td>\n",
              "      <td>18.250000</td>\n",
              "      <td>18.800000</td>\n",
              "      <td>0.620000</td>\n",
              "    </tr>\n",
              "    <tr>\n",
              "      <th>25%</th>\n",
              "      <td>0.000000</td>\n",
              "      <td>0.000000</td>\n",
              "      <td>0.000000</td>\n",
              "      <td>0.000000</td>\n",
              "      <td>9.000000</td>\n",
              "      <td>1.000000</td>\n",
              "      <td>0.000000</td>\n",
              "      <td>0.000000</td>\n",
              "      <td>0.000000</td>\n",
              "      <td>0.000000</td>\n",
              "      <td>0.000000</td>\n",
              "      <td>0.000000</td>\n",
              "      <td>0.000000</td>\n",
              "      <td>0.000000</td>\n",
              "      <td>35.425000</td>\n",
              "      <td>401.400000</td>\n",
              "      <td>216.630000</td>\n",
              "    </tr>\n",
              "    <tr>\n",
              "      <th>50%</th>\n",
              "      <td>0.000000</td>\n",
              "      <td>0.000000</td>\n",
              "      <td>0.000000</td>\n",
              "      <td>0.000000</td>\n",
              "      <td>29.000000</td>\n",
              "      <td>1.000000</td>\n",
              "      <td>0.000000</td>\n",
              "      <td>0.000000</td>\n",
              "      <td>0.000000</td>\n",
              "      <td>0.000000</td>\n",
              "      <td>0.000000</td>\n",
              "      <td>0.000000</td>\n",
              "      <td>0.000000</td>\n",
              "      <td>1.000000</td>\n",
              "      <td>70.300000</td>\n",
              "      <td>1394.550000</td>\n",
              "      <td>2280.634213</td>\n",
              "    </tr>\n",
              "    <tr>\n",
              "      <th>75%</th>\n",
              "      <td>1.000000</td>\n",
              "      <td>0.000000</td>\n",
              "      <td>1.000000</td>\n",
              "      <td>1.000000</td>\n",
              "      <td>55.000000</td>\n",
              "      <td>1.000000</td>\n",
              "      <td>1.000000</td>\n",
              "      <td>1.000000</td>\n",
              "      <td>1.000000</td>\n",
              "      <td>1.000000</td>\n",
              "      <td>1.000000</td>\n",
              "      <td>1.000000</td>\n",
              "      <td>1.000000</td>\n",
              "      <td>1.000000</td>\n",
              "      <td>89.875000</td>\n",
              "      <td>3778.525000</td>\n",
              "      <td>2280.634213</td>\n",
              "    </tr>\n",
              "    <tr>\n",
              "      <th>max</th>\n",
              "      <td>1.000000</td>\n",
              "      <td>1.000000</td>\n",
              "      <td>1.000000</td>\n",
              "      <td>1.000000</td>\n",
              "      <td>72.000000</td>\n",
              "      <td>1.000000</td>\n",
              "      <td>1.000000</td>\n",
              "      <td>1.000000</td>\n",
              "      <td>1.000000</td>\n",
              "      <td>1.000000</td>\n",
              "      <td>1.000000</td>\n",
              "      <td>1.000000</td>\n",
              "      <td>1.000000</td>\n",
              "      <td>1.000000</td>\n",
              "      <td>118.750000</td>\n",
              "      <td>8684.800000</td>\n",
              "      <td>2280.634213</td>\n",
              "    </tr>\n",
              "  </tbody>\n",
              "</table>\n",
              "</div>\n",
              "    <div class=\"colab-df-buttons\">\n",
              "\n",
              "  <div class=\"colab-df-container\">\n",
              "    <button class=\"colab-df-convert\" onclick=\"convertToInteractive('df-0ee0d974-f72c-429e-81ad-8938cb0bb0c2')\"\n",
              "            title=\"Convert this dataframe to an interactive table.\"\n",
              "            style=\"display:none;\">\n",
              "\n",
              "  <svg xmlns=\"http://www.w3.org/2000/svg\" height=\"24px\" viewBox=\"0 -960 960 960\">\n",
              "    <path d=\"M120-120v-720h720v720H120Zm60-500h600v-160H180v160Zm220 220h160v-160H400v160Zm0 220h160v-160H400v160ZM180-400h160v-160H180v160Zm440 0h160v-160H620v160ZM180-180h160v-160H180v160Zm440 0h160v-160H620v160Z\"/>\n",
              "  </svg>\n",
              "    </button>\n",
              "\n",
              "  <style>\n",
              "    .colab-df-container {\n",
              "      display:flex;\n",
              "      gap: 12px;\n",
              "    }\n",
              "\n",
              "    .colab-df-convert {\n",
              "      background-color: #E8F0FE;\n",
              "      border: none;\n",
              "      border-radius: 50%;\n",
              "      cursor: pointer;\n",
              "      display: none;\n",
              "      fill: #1967D2;\n",
              "      height: 32px;\n",
              "      padding: 0 0 0 0;\n",
              "      width: 32px;\n",
              "    }\n",
              "\n",
              "    .colab-df-convert:hover {\n",
              "      background-color: #E2EBFA;\n",
              "      box-shadow: 0px 1px 2px rgba(60, 64, 67, 0.3), 0px 1px 3px 1px rgba(60, 64, 67, 0.15);\n",
              "      fill: #174EA6;\n",
              "    }\n",
              "\n",
              "    .colab-df-buttons div {\n",
              "      margin-bottom: 4px;\n",
              "    }\n",
              "\n",
              "    [theme=dark] .colab-df-convert {\n",
              "      background-color: #3B4455;\n",
              "      fill: #D2E3FC;\n",
              "    }\n",
              "\n",
              "    [theme=dark] .colab-df-convert:hover {\n",
              "      background-color: #434B5C;\n",
              "      box-shadow: 0px 1px 3px 1px rgba(0, 0, 0, 0.15);\n",
              "      filter: drop-shadow(0px 1px 2px rgba(0, 0, 0, 0.3));\n",
              "      fill: #FFFFFF;\n",
              "    }\n",
              "  </style>\n",
              "\n",
              "    <script>\n",
              "      const buttonEl =\n",
              "        document.querySelector('#df-0ee0d974-f72c-429e-81ad-8938cb0bb0c2 button.colab-df-convert');\n",
              "      buttonEl.style.display =\n",
              "        google.colab.kernel.accessAllowed ? 'block' : 'none';\n",
              "\n",
              "      async function convertToInteractive(key) {\n",
              "        const element = document.querySelector('#df-0ee0d974-f72c-429e-81ad-8938cb0bb0c2');\n",
              "        const dataTable =\n",
              "          await google.colab.kernel.invokeFunction('convertToInteractive',\n",
              "                                                    [key], {});\n",
              "        if (!dataTable) return;\n",
              "\n",
              "        const docLinkHtml = 'Like what you see? Visit the ' +\n",
              "          '<a target=\"_blank\" href=https://colab.research.google.com/notebooks/data_table.ipynb>data table notebook</a>'\n",
              "          + ' to learn more about interactive tables.';\n",
              "        element.innerHTML = '';\n",
              "        dataTable['output_type'] = 'display_data';\n",
              "        await google.colab.output.renderOutput(dataTable, element);\n",
              "        const docLink = document.createElement('div');\n",
              "        docLink.innerHTML = docLinkHtml;\n",
              "        element.appendChild(docLink);\n",
              "      }\n",
              "    </script>\n",
              "  </div>\n",
              "\n",
              "\n",
              "    <div id=\"df-288fe0c5-e944-441c-86e4-d26a57d39bd1\">\n",
              "      <button class=\"colab-df-quickchart\" onclick=\"quickchart('df-288fe0c5-e944-441c-86e4-d26a57d39bd1')\"\n",
              "                title=\"Suggest charts\"\n",
              "                style=\"display:none;\">\n",
              "\n",
              "<svg xmlns=\"http://www.w3.org/2000/svg\" height=\"24px\"viewBox=\"0 0 24 24\"\n",
              "     width=\"24px\">\n",
              "    <g>\n",
              "        <path d=\"M19 3H5c-1.1 0-2 .9-2 2v14c0 1.1.9 2 2 2h14c1.1 0 2-.9 2-2V5c0-1.1-.9-2-2-2zM9 17H7v-7h2v7zm4 0h-2V7h2v10zm4 0h-2v-4h2v4z\"/>\n",
              "    </g>\n",
              "</svg>\n",
              "      </button>\n",
              "\n",
              "<style>\n",
              "  .colab-df-quickchart {\n",
              "      --bg-color: #E8F0FE;\n",
              "      --fill-color: #1967D2;\n",
              "      --hover-bg-color: #E2EBFA;\n",
              "      --hover-fill-color: #174EA6;\n",
              "      --disabled-fill-color: #AAA;\n",
              "      --disabled-bg-color: #DDD;\n",
              "  }\n",
              "\n",
              "  [theme=dark] .colab-df-quickchart {\n",
              "      --bg-color: #3B4455;\n",
              "      --fill-color: #D2E3FC;\n",
              "      --hover-bg-color: #434B5C;\n",
              "      --hover-fill-color: #FFFFFF;\n",
              "      --disabled-bg-color: #3B4455;\n",
              "      --disabled-fill-color: #666;\n",
              "  }\n",
              "\n",
              "  .colab-df-quickchart {\n",
              "    background-color: var(--bg-color);\n",
              "    border: none;\n",
              "    border-radius: 50%;\n",
              "    cursor: pointer;\n",
              "    display: none;\n",
              "    fill: var(--fill-color);\n",
              "    height: 32px;\n",
              "    padding: 0;\n",
              "    width: 32px;\n",
              "  }\n",
              "\n",
              "  .colab-df-quickchart:hover {\n",
              "    background-color: var(--hover-bg-color);\n",
              "    box-shadow: 0 1px 2px rgba(60, 64, 67, 0.3), 0 1px 3px 1px rgba(60, 64, 67, 0.15);\n",
              "    fill: var(--button-hover-fill-color);\n",
              "  }\n",
              "\n",
              "  .colab-df-quickchart-complete:disabled,\n",
              "  .colab-df-quickchart-complete:disabled:hover {\n",
              "    background-color: var(--disabled-bg-color);\n",
              "    fill: var(--disabled-fill-color);\n",
              "    box-shadow: none;\n",
              "  }\n",
              "\n",
              "  .colab-df-spinner {\n",
              "    border: 2px solid var(--fill-color);\n",
              "    border-color: transparent;\n",
              "    border-bottom-color: var(--fill-color);\n",
              "    animation:\n",
              "      spin 1s steps(1) infinite;\n",
              "  }\n",
              "\n",
              "  @keyframes spin {\n",
              "    0% {\n",
              "      border-color: transparent;\n",
              "      border-bottom-color: var(--fill-color);\n",
              "      border-left-color: var(--fill-color);\n",
              "    }\n",
              "    20% {\n",
              "      border-color: transparent;\n",
              "      border-left-color: var(--fill-color);\n",
              "      border-top-color: var(--fill-color);\n",
              "    }\n",
              "    30% {\n",
              "      border-color: transparent;\n",
              "      border-left-color: var(--fill-color);\n",
              "      border-top-color: var(--fill-color);\n",
              "      border-right-color: var(--fill-color);\n",
              "    }\n",
              "    40% {\n",
              "      border-color: transparent;\n",
              "      border-right-color: var(--fill-color);\n",
              "      border-top-color: var(--fill-color);\n",
              "    }\n",
              "    60% {\n",
              "      border-color: transparent;\n",
              "      border-right-color: var(--fill-color);\n",
              "    }\n",
              "    80% {\n",
              "      border-color: transparent;\n",
              "      border-right-color: var(--fill-color);\n",
              "      border-bottom-color: var(--fill-color);\n",
              "    }\n",
              "    90% {\n",
              "      border-color: transparent;\n",
              "      border-bottom-color: var(--fill-color);\n",
              "    }\n",
              "  }\n",
              "</style>\n",
              "\n",
              "      <script>\n",
              "        async function quickchart(key) {\n",
              "          const quickchartButtonEl =\n",
              "            document.querySelector('#' + key + ' button');\n",
              "          quickchartButtonEl.disabled = true;  // To prevent multiple clicks.\n",
              "          quickchartButtonEl.classList.add('colab-df-spinner');\n",
              "          try {\n",
              "            const charts = await google.colab.kernel.invokeFunction(\n",
              "                'suggestCharts', [key], {});\n",
              "          } catch (error) {\n",
              "            console.error('Error during call to suggestCharts:', error);\n",
              "          }\n",
              "          quickchartButtonEl.classList.remove('colab-df-spinner');\n",
              "          quickchartButtonEl.classList.add('colab-df-quickchart-complete');\n",
              "        }\n",
              "        (() => {\n",
              "          let quickchartButtonEl =\n",
              "            document.querySelector('#df-288fe0c5-e944-441c-86e4-d26a57d39bd1 button');\n",
              "          quickchartButtonEl.style.display =\n",
              "            google.colab.kernel.accessAllowed ? 'block' : 'none';\n",
              "        })();\n",
              "      </script>\n",
              "    </div>\n",
              "\n",
              "    </div>\n",
              "  </div>\n"
            ],
            "application/vnd.google.colaboratory.intrinsic+json": {
              "type": "dataframe",
              "summary": "{\n  \"name\": \"datos_TelecomX_Fla\",\n  \"rows\": 8,\n  \"fields\": [\n    {\n      \"column\": \"Cancelaci\\u00f3n\",\n      \"properties\": {\n        \"dtype\": \"number\",\n        \"std\": 2569.136440405606,\n        \"min\": 0.0,\n        \"max\": 7267.0,\n        \"num_unique_values\": 5,\n        \"samples\": [\n          0.257190037154259,\n          1.0,\n          0.43711510465832787\n        ],\n        \"semantic_type\": \"\",\n        \"description\": \"\"\n      }\n    },\n    {\n      \"column\": \"Ciudadano_senior\",\n      \"properties\": {\n        \"dtype\": \"number\",\n        \"std\": 2569.19514853371,\n        \"min\": 0.0,\n        \"max\": 7267.0,\n        \"num_unique_values\": 5,\n        \"samples\": [\n          0.16265308930782993,\n          1.0,\n          0.3690742557820031\n        ],\n        \"semantic_type\": \"\",\n        \"description\": \"\"\n      }\n    },\n    {\n      \"column\": \"Tiene_pareja\",\n      \"properties\": {\n        \"dtype\": \"number\",\n        \"std\": 2569.1218140436854,\n        \"min\": 0.0,\n        \"max\": 7267.0,\n        \"num_unique_values\": 5,\n        \"samples\": [\n          0.48410623365900646,\n          1.0,\n          0.49978171260213444\n        ],\n        \"semantic_type\": \"\",\n        \"description\": \"\"\n      }\n    },\n    {\n      \"column\": \"Tiene_dependientes\",\n      \"properties\": {\n        \"dtype\": \"number\",\n        \"std\": 2569.1331995473306,\n        \"min\": 0.0,\n        \"max\": 7267.0,\n        \"num_unique_values\": 5,\n        \"samples\": [\n          0.3001238475299298,\n          1.0,\n          0.4583431380785336\n        ],\n        \"semantic_type\": \"\",\n        \"description\": \"\"\n      }\n    },\n    {\n      \"column\": \"Meses_de_cliente\",\n      \"properties\": {\n        \"dtype\": \"number\",\n        \"std\": 2558.1685122560853,\n        \"min\": 0.0,\n        \"max\": 7267.0,\n        \"num_unique_values\": 8,\n        \"samples\": [\n          32.34649786707032,\n          29.0,\n          7267.0\n        ],\n        \"semantic_type\": \"\",\n        \"description\": \"\"\n      }\n    },\n    {\n      \"column\": \"Servicio_telefonico\",\n      \"properties\": {\n        \"dtype\": \"number\",\n        \"std\": 2569.0099250796134,\n        \"min\": 0.0,\n        \"max\": 7267.0,\n        \"num_unique_values\": 5,\n        \"samples\": [\n          0.9027108848217972,\n          1.0,\n          0.2963714396136822\n        ],\n        \"semantic_type\": \"\",\n        \"description\": \"\"\n      }\n    },\n    {\n      \"column\": \"Lineas_multiples\",\n      \"properties\": {\n        \"dtype\": \"number\",\n        \"std\": 2569.1252606626113,\n        \"min\": 0.0,\n        \"max\": 7267.0,\n        \"num_unique_values\": 5,\n        \"samples\": [\n          0.42176964359433056,\n          1.0,\n          0.49387607340853507\n        ],\n        \"semantic_type\": \"\",\n        \"description\": \"\"\n      }\n    },\n    {\n      \"column\": \"Seguridad_online\",\n      \"properties\": {\n        \"dtype\": \"number\",\n        \"std\": 2569.1342410672646,\n        \"min\": 0.0,\n        \"max\": 7267.0,\n        \"num_unique_values\": 5,\n        \"samples\": [\n          0.2859501857712949,\n          1.0,\n          0.4518968667077194\n        ],\n        \"semantic_type\": \"\",\n        \"description\": \"\"\n      }\n    },\n    {\n      \"column\": \"Respaldo_online\",\n      \"properties\": {\n        \"dtype\": \"number\",\n        \"std\": 2569.1301000047106,\n        \"min\": 0.0,\n        \"max\": 7267.0,\n        \"num_unique_values\": 5,\n        \"samples\": [\n          0.34457134993807625,\n          1.0,\n          0.4752609985648411\n        ],\n        \"semantic_type\": \"\",\n        \"description\": \"\"\n      }\n    },\n    {\n      \"column\": \"Proteccion_dispositivo\",\n      \"properties\": {\n        \"dtype\": \"number\",\n        \"std\": 2569.130220103395,\n        \"min\": 0.0,\n        \"max\": 7267.0,\n        \"num_unique_values\": 5,\n        \"samples\": [\n          0.3427824411724233,\n          1.0,\n          0.4746721439466092\n        ],\n        \"semantic_type\": \"\",\n        \"description\": \"\"\n      }\n    },\n    {\n      \"column\": \"Soporte_tecnico\",\n      \"properties\": {\n        \"dtype\": \"number\",\n        \"std\": 2569.1339756107786,\n        \"min\": 0.0,\n        \"max\": 7267.0,\n        \"num_unique_values\": 5,\n        \"samples\": [\n          0.2895280033026008,\n          1.0,\n          0.45357452392593645\n        ],\n        \"semantic_type\": \"\",\n        \"description\": \"\"\n      }\n    },\n    {\n      \"column\": \"Tv_streaming\",\n      \"properties\": {\n        \"dtype\": \"number\",\n        \"std\": 2569.1275508880376,\n        \"min\": 0.0,\n        \"max\": 7267.0,\n        \"num_unique_values\": 5,\n        \"samples\": [\n          0.38392734278244117,\n          1.0,\n          0.48637402360645987\n        ],\n        \"semantic_type\": \"\",\n        \"description\": \"\"\n      }\n    },\n    {\n      \"column\": \"Peliculas_streaming\",\n      \"properties\": {\n        \"dtype\": \"number\",\n        \"std\": 2569.127327749528,\n        \"min\": 0.0,\n        \"max\": 7267.0,\n        \"num_unique_values\": 5,\n        \"samples\": [\n          0.3875051603137471,\n          1.0,\n          0.48721409686549083\n        ],\n        \"semantic_type\": \"\",\n        \"description\": \"\"\n      }\n    },\n    {\n      \"column\": \"Factura_electronica\",\n      \"properties\": {\n        \"dtype\": \"number\",\n        \"std\": 2569.0662249410307,\n        \"min\": 0.0,\n        \"max\": 7267.0,\n        \"num_unique_values\": 5,\n        \"samples\": [\n          0.5932296683638365,\n          1.0,\n          0.49126514179011355\n        ],\n        \"semantic_type\": \"\",\n        \"description\": \"\"\n      }\n    },\n    {\n      \"column\": \"Cargos_mensuales\",\n      \"properties\": {\n        \"dtype\": \"number\",\n        \"std\": 2547.8989994186936,\n        \"min\": 18.25,\n        \"max\": 7267.0,\n        \"num_unique_values\": 8,\n        \"samples\": [\n          64.72009770194028,\n          70.3,\n          7267.0\n        ],\n        \"semantic_type\": \"\",\n        \"description\": \"\"\n      }\n    },\n    {\n      \"column\": \"Cargos_totales\",\n      \"properties\": {\n        \"dtype\": \"number\",\n        \"std\": 3159.014365974713,\n        \"min\": 18.8,\n        \"max\": 8684.8,\n        \"num_unique_values\": 8,\n        \"samples\": [\n          2280.6342130650496,\n          1394.55,\n          7267.0\n        ],\n        \"semantic_type\": \"\",\n        \"description\": \"\"\n      }\n    },\n    {\n      \"column\": \"Cuentas_Diarias\",\n      \"properties\": {\n        \"dtype\": \"number\",\n        \"std\": 2272.944828484251,\n        \"min\": 0.62,\n        \"max\": 7267.0,\n        \"num_unique_values\": 6,\n        \"samples\": [\n          7267.0,\n          1707.0200801052893,\n          2280.6342130650496\n        ],\n        \"semantic_type\": \"\",\n        \"description\": \"\"\n      }\n    }\n  ]\n}"
            }
          },
          "metadata": {},
          "execution_count": 102
        }
      ]
    },
    {
      "cell_type": "markdown",
      "source": [
        "**Cancelación de servicio**\n",
        "\n",
        "  Media: 0.257 → Aproximadamente 25.7% de los clientes han cancelado.\n",
        "\n",
        "  Mediana: 0.0 → La mayoría no ha cancelado.\n",
        "\n",
        "  Máximo: 1 → Valor binario (0 = no canceló, 1 = canceló).\n",
        "\n",
        "**Insight:** Hay una proporción significativa de clientes que cancelan (~1 de cada 4). Esto amerita un análisis más profundo de factores relacionados a la Cancelación."
      ],
      "metadata": {
        "id": "4wvZzA6XpFRo"
      }
    },
    {
      "cell_type": "markdown",
      "source": [
        "**Meses de cliente**\n",
        "\n",
        "  Media: 32.35 meses (~2.7 años).\n",
        "\n",
        "  Mediana: 29 meses.\n",
        "\n",
        "  Rango: de 0 a 72 meses.\n",
        "\n",
        "**Insight:** La mitad de los clientes tienen menos de 2.5 años con la empresa. Retenerlos a largo plazo es clave.\n"
      ],
      "metadata": {
        "id": "k85aWhAHpkpJ"
      }
    },
    {
      "cell_type": "markdown",
      "source": [
        "**Cargos_mensuales (Factura mensual)**\n",
        "\n",
        "  Media: $64.72\n",
        "\n",
        "  Mediana: $70.30\n",
        "\n",
        "  Rango: $18.25 a $118.75\n",
        "\n",
        "**Insight:** Hay una buena dispersión de precios. Los clientes pagan diferentes montos según servicios contratados."
      ],
      "metadata": {
        "id": "Sr4BgJeqp1Ya"
      }
    },
    {
      "cell_type": "markdown",
      "source": [
        "**Cargos_Totales (Monto total facturado)**\n",
        "\n",
        "  Media: $2,280.63\n",
        "\n",
        "  Mediana: $1,394.55\n",
        "\n",
        "  Máximo: $8,684.80\n",
        "\n",
        "**Insight:** Alta variabilidad. Algunos clientes generan mucho más valor que otros. Ideal para segmentar clientes por CLV (Customer Lifetime Value).\n"
      ],
      "metadata": {
        "id": "uYzHDx3mqCCk"
      }
    },
    {
      "cell_type": "markdown",
      "source": [
        "**Cuentas_Diarias (Valor diario estimado)**\n",
        "\n",
        "  Media: $2.13 por día\n",
        "\n",
        "  Mediana: $2.31\n",
        "\n",
        "  Rango: $0.45  a  $3.99\n",
        "\n",
        "**Insight:** Esta columna muestra cuánto aporta cada cliente por día, muy útil para proyecciones y segmentación."
      ],
      "metadata": {
        "id": "15oPClkwqO_V"
      }
    },
    {
      "cell_type": "markdown",
      "source": [
        "**Variables de soporte técnico y servicios:**\n",
        "\n",
        "  Soporte_tecnico, Tv_Streaming, Peliculas_Streaming, etc. tienen promedios alrededor de 0.3 - 0.4, indicando que entre 30% y 40% de los clientes usan estos servicios.\n",
        "\n",
        "**Insight:** Estos servicios son un buen punto de análisis cruzado con churn. ¿Los clientes que no los usan se van más?"
      ],
      "metadata": {
        "id": "ztkXH0NYqcU5"
      }
    },
    {
      "cell_type": "markdown",
      "source": [
        "**Recomendaciones para siguientes pasos:**\n",
        "\n",
        "  Visualizar la relación entre la Cancelación y otras variables (como Cargos, Soporte_tecnico, Tipo_contrato...).\n",
        "\n",
        "  Segmentar clientes por Meses_de_cliente, Tipo_contrato o Metodo_pago para analizar su comportamiento.\n",
        "\n",
        "  Analizar valores atípicos: clientes con Cargos_Totales muy alto o Cuentas_Diarias fuera del rango normal."
      ],
      "metadata": {
        "id": "8aKCFdgDquc2"
      }
    },
    {
      "cell_type": "markdown",
      "source": [
        "#Distribución de evasión"
      ],
      "metadata": {
        "id": "dZGqaWjYn2ic"
      }
    },
    {
      "cell_type": "markdown",
      "source": [
        "#####En este paso, el objetivo es comprender cómo está distribuida la variable \"cancelación entre los clientes. Utiliza gráficos para visualizar la proporción de clientes que permanecieron y los que se dieron de baja.\n",
        "\n",
        "Introducción\n",
        "\n",
        "El presente informe tiene como objetivo analizar los datos de clientes de la empresa TelecomX para comprender los factores que influyen en la evasión de clientes. La evasión representa una pérdida importante para las compañías de telecomunicaciones, no solo en términos de ingresos, sino también en oportunidades de fidelización y venta cruzada.\n",
        "Identificar patrones comunes entre los clientes que abandonan el servicio es clave para aplicar estrategias efectivas de retención."
      ],
      "metadata": {
        "id": "MWnClom-oE-H"
      }
    },
    {
      "cell_type": "code",
      "source": [
        "import pandas as pd\n",
        "import matplotlib.pyplot as plt\n",
        "import seaborn as sns"
      ],
      "metadata": {
        "id": "rLoLAmv2xtwi"
      },
      "execution_count": 103,
      "outputs": []
    },
    {
      "cell_type": "code",
      "source": [
        "# -------- Gráfico de barras con totales -------- #\n",
        "plt.figure(figsize=(6, 4))\n",
        "ax = sns.countplot(data=datos_TelecomX_Fla, x=\"Cancelación\", palette=\"Set2\")\n",
        "\n",
        "# Agregar los valores encima de cada barra\n",
        "for p in ax.patches:\n",
        "    altura = p.get_height()\n",
        "    ax.text(\n",
        "        x=p.get_x() + p.get_width() / 2,  # centrado horizontal\n",
        "        y=altura + 2,                     # un poco por encima de la barra\n",
        "        s=f\"{altura:.0f}\",                # número entero\n",
        "        ha=\"center\"\n",
        "    )\n",
        "\n",
        "plt.title(\"Distribución de clientes según si el cliente abandonó el servicio\")\n",
        "plt.xlabel(\"¿Cliente se dio de baja?\")\n",
        "plt.ylabel(\"Cantidad de clientes\")\n",
        "plt.tight_layout()\n",
        "plt.show()\n"
      ],
      "metadata": {
        "colab": {
          "base_uri": "https://localhost:8080/",
          "height": 516
        },
        "id": "GZH3nFqLwnl1",
        "outputId": "72be600d-fab3-48b6-8ba9-6f9666e09f4a"
      },
      "execution_count": 104,
      "outputs": [
        {
          "output_type": "stream",
          "name": "stderr",
          "text": [
            "<ipython-input-104-9b9229ea8b48>:3: FutureWarning: \n",
            "\n",
            "Passing `palette` without assigning `hue` is deprecated and will be removed in v0.14.0. Assign the `x` variable to `hue` and set `legend=False` for the same effect.\n",
            "\n",
            "  ax = sns.countplot(data=datos_TelecomX_Fla, x=\"Cancelación\", palette=\"Set2\")\n"
          ]
        },
        {
          "output_type": "display_data",
          "data": {
            "text/plain": [
              "<Figure size 600x400 with 1 Axes>"
            ],
            "image/png": "[encoded data removed]"
          },
          "metadata": {}
        }
      ]
    },
    {
      "cell_type": "code",
      "source": [
        "import matplotlib.pyplot as plt\n",
        "\n",
        "# Definir la función para mostrar porcentaje y cantidad absoluta\n",
        "def formato_etiqueta(pct, valores):\n",
        "    total = sum(valores)\n",
        "    valor_absoluto = int(round(pct * total / 100.0))\n",
        "    return f'{pct:.1f}%\\n({valor_absoluto})'\n",
        "\n",
        "# Calcular los datos\n",
        "churn_counts = datos_TelecomX_Fla[\"Cancelación\"].value_counts()\n",
        "churn_labels = churn_counts.index\n",
        "churn_sizes = churn_counts.values\n",
        "\n",
        "# Crear el gráfico\n",
        "plt.figure(figsize=(5, 5))\n",
        "plt.pie(\n",
        "    churn_sizes,\n",
        "    labels=churn_labels,\n",
        "    autopct=lambda pct: formato_etiqueta(pct, churn_sizes),\n",
        "    startangle=90,\n",
        "    colors=[\"#66c2a5\", \"#fc8d62\"]\n",
        ")\n",
        "plt.axis(\"equal\")  # Hacer que el gráfico sea un círculo\n",
        "plt.title(\"Proporción de clientes según la Cancelación\")\n",
        "plt.show()\n"
      ],
      "metadata": {
        "colab": {
          "base_uri": "https://localhost:8080/",
          "height": 444
        },
        "id": "F8kE4LxWC7Mb",
        "outputId": "55a27261-fdce-4280-bbfa-3a11bd30e0be"
      },
      "execution_count": 105,
      "outputs": [
        {
          "output_type": "display_data",
          "data": {
            "text/plain": [
              "<Figure size 500x500 with 1 Axes>"
            ],
            "image/png": "[encoded data removed]"
          },
          "metadata": {}
        }
      ]
    },
    {
      "cell_type": "markdown",
      "source": [
        "####Alta tasa de evasión: Aproximadamente el 25,7% de los clientes ha abandonado el servicio."
      ],
      "metadata": {
        "id": "wrOU9hVV01Do"
      }
    },
    {
      "cell_type": "markdown",
      "source": [
        "##Recuento de evasión por variables categóricas"
      ],
      "metadata": {
        "id": "RhGONb5c1xZT"
      }
    },
    {
      "cell_type": "markdown",
      "source": [
        "####Exploraremos cómo se distribuye la evasión según variables categóricas, como género, tipo de contrato, método de pago, entre otras.\n",
        "\n",
        "Este análisis puede revelar patrones interesantes, por ejemplo, si los clientes de ciertos perfiles tienen una mayor tendencia a cancelar el servicio, lo que ayudará a orientar acciones estratégicas."
      ],
      "metadata": {
        "id": "M0S4eia613Be"
      }
    },
    {
      "cell_type": "code",
      "source": [
        "datos_TelecomX_Fla.select_dtypes(include='object').columns\n"
      ],
      "metadata": {
        "id": "muZjt-5h6rK0",
        "colab": {
          "base_uri": "https://localhost:8080/"
        },
        "outputId": "281fab7a-e00b-4e0e-ce78-f56bf78c32bd"
      },
      "execution_count": 106,
      "outputs": [
        {
          "output_type": "execute_result",
          "data": {
            "text/plain": [
              "Index(['Id_cliente', 'Genero', 'Tipo_internet', 'Tipo_contrato',\n",
              "       'Metodo_pago'],\n",
              "      dtype='object')"
            ]
          },
          "metadata": {},
          "execution_count": 106
        }
      ]
    },
    {
      "cell_type": "markdown",
      "source": [
        "# Por Género"
      ],
      "metadata": {
        "id": "00wwdYzE3r7e"
      }
    },
    {
      "cell_type": "code",
      "source": [
        "sns.countplot(data=datos_TelecomX_Fla, x='Genero', hue='Cancelación', palette={0: 'red', 1: 'blue'})\n",
        "plt.title('Recuento de Evasión por Género')\n",
        "plt.show()"
      ],
      "metadata": {
        "colab": {
          "base_uri": "https://localhost:8080/",
          "height": 472
        },
        "id": "8H68mMRa3M4U",
        "outputId": "037b65d2-ce63-426a-bf76-2ab3de47a95e"
      },
      "execution_count": 107,
      "outputs": [
        {
          "output_type": "display_data",
          "data": {
            "text/plain": [
              "<Figure size 640x480 with 1 Axes>"
            ],
            "image/png": "[encoded data removed]"
          },
          "metadata": {}
        }
      ]
    },
    {
      "cell_type": "markdown",
      "source": [
        "###Género:\n",
        "\n",
        "  La evasión está distribuida casi por igual entre hombres y mujeres.\n",
        "\n",
        "  No parece haber una diferencia significativa entre géneros."
      ],
      "metadata": {
        "id": "RiFD6CPSDxu0"
      }
    },
    {
      "cell_type": "markdown",
      "source": [
        "#Tipo de contrato"
      ],
      "metadata": {
        "id": "TGWkdJ2V4SdK"
      }
    },
    {
      "cell_type": "code",
      "source": [
        "sns.countplot(data=datos_TelecomX_Fla, x='Tipo_contrato', hue='Cancelación')\n",
        "plt.title('Recuento de Evasión por Tipo de Contrato')\n",
        "plt.xticks(rotation=45)\n",
        "plt.show()"
      ],
      "metadata": {
        "id": "wr6YD4y23PAQ",
        "colab": {
          "base_uri": "https://localhost:8080/",
          "height": 521
        },
        "outputId": "0d49ee3f-7768-4f4a-b540-1c4185f209bf"
      },
      "execution_count": 108,
      "outputs": [
        {
          "output_type": "display_data",
          "data": {
            "text/plain": [
              "<Figure size 640x480 with 1 Axes>"
            ],
            "image/png": "[encoded data removed]"
          },
          "metadata": {}
        }
      ]
    },
    {
      "cell_type": "markdown",
      "source": [
        "###Tipo de Contrato:\n",
        "\n",
        "  Los clientes con contratos \"Mes a mes\" presentan una evasión mucho mayor que los de contratos \"Un año\" o \"Dos años\".\n",
        "\n",
        "  Esto sugiere que los contratos más largos ayudan a retener clientes."
      ],
      "metadata": {
        "id": "VEVmx-FXD_ci"
      }
    },
    {
      "cell_type": "markdown",
      "source": [
        "#Método de pago"
      ],
      "metadata": {
        "id": "sSGfAO2c5NAC"
      }
    },
    {
      "cell_type": "code",
      "source": [
        "sns.countplot(data=datos_TelecomX_Fla, x='Metodo_pago', hue='Cancelación',palette={0: 'brown', 1:'orange'})\n",
        "plt.title('Recuento de Evasión por Método de Pago')\n",
        "plt.xticks(rotation=45)\n",
        "plt.show()"
      ],
      "metadata": {
        "id": "--COKMgB5L9r",
        "colab": {
          "base_uri": "https://localhost:8080/",
          "height": 647
        },
        "outputId": "7a95f442-c695-483d-c239-c7138eed73a3"
      },
      "execution_count": 109,
      "outputs": [
        {
          "output_type": "display_data",
          "data": {
            "text/plain": [
              "<Figure size 640x480 with 1 Axes>"
            ],
            "image/png": "[encoded data removed]"
          },
          "metadata": {}
        }
      ]
    },
    {
      "cell_type": "markdown",
      "source": [
        "###Método de Pago:\n",
        "\n",
        "  Los clientes que usan \"Factura electrónica\" tienen una tasa de evasión visiblemente más alta.\n",
        "\n",
        "  Métodos como tarjeta de crédito o transferencia automática parecen estar asociados con menor cancelación."
      ],
      "metadata": {
        "id": "FbCqrq0XEN-_"
      }
    },
    {
      "cell_type": "markdown",
      "source": [
        "#Servicio de Internet"
      ],
      "metadata": {
        "id": "tdHpkA7H6UWL"
      }
    },
    {
      "cell_type": "code",
      "source": [
        "sns.countplot(data=datos_TelecomX_Fla, x='Tipo_internet', hue='Cancelación', palette={0: 'yellow', 1:'green'})\n",
        "plt.title('Recuento de Evasión por Método de Pago')\n",
        "plt.xticks(rotation=45)\n",
        "plt.show()"
      ],
      "metadata": {
        "id": "H7V7jpSK6Eze",
        "colab": {
          "base_uri": "https://localhost:8080/",
          "height": 526
        },
        "outputId": "623b12fe-cd21-4dfc-a9a9-041dadf5d070"
      },
      "execution_count": 110,
      "outputs": [
        {
          "output_type": "display_data",
          "data": {
            "text/plain": [
              "<Figure size 640x480 with 1 Axes>"
            ],
            "image/png": "[encoded data removed]"
          },
          "metadata": {}
        }
      ]
    },
    {
      "cell_type": "markdown",
      "source": [
        "###Clientes con \"Fibra óptica\" tienen la tasa más alta de evasión (~40%).\n",
        "\n",
        "Los clientes sin servicio de internet son los más estables.\n",
        "\n",
        "Esto sugiere que el servicio de fibra óptica puede necesitar atención, ya que podría estar generando insatisfacción o ser más caro."
      ],
      "metadata": {
        "id": "2srWGoI6EbPQ"
      }
    },
    {
      "cell_type": "markdown",
      "source": [
        "#Servicio telefónico"
      ],
      "metadata": {
        "id": "sIKGu7emhhjU"
      }
    },
    {
      "cell_type": "code",
      "source": [
        "sns.countplot(data=datos_TelecomX_Fla, x='Servicio_telefonico', hue='Cancelación', palette={0: 'purple', 1:'green'})\n",
        "plt.title('Recuento de Evasión por Servivio Telefónico')\n",
        "plt.xticks(rotation=45)\n",
        "plt.show()"
      ],
      "metadata": {
        "colab": {
          "base_uri": "https://localhost:8080/",
          "height": 475
        },
        "id": "VeJa-DumhaCp",
        "outputId": "5169790a-e833-4341-f78a-37aa79fcf2a8"
      },
      "execution_count": 111,
      "outputs": [
        {
          "output_type": "display_data",
          "data": {
            "text/plain": [
              "<Figure size 640x480 with 1 Axes>"
            ],
            "image/png": "[encoded data removed]"
          },
          "metadata": {}
        }
      ]
    },
    {
      "cell_type": "markdown",
      "source": [
        "El gráfico generado por el código muestra un recuento  de clientes de la empresa TelecomX según si tienen o no servicio telefónico (servivio_telefónico), desglosado por si han renunciado al servicio (Cancelación), lo que se conoce como evasión o cancelación del cliente.\n",
        "\n",
        "Este gráfico permite observar la relación entre el uso del servicio telefónico y la evasión de clientes. Las barras representan la cantidad de clientes con (Yes) o sin (No) servicio telefónico, diferenciados por color según si se han dado de baja (verde) o han permanecido como clientes (morado).\n",
        "\n",
        "Podemos interpretar si los clientes sin servicio telefónico tienen mayor tasa de cancelación o si el servicio telefónico está asociado con una menor evasión. Por ejemplo, si la mayoría de los clientes sin servicio telefónico están en verde, podría indicar que no tener este servicio se asocia con una mayor probabilidad de cancelación."
      ],
      "metadata": {
        "id": "E6wmRHtWPrfH"
      }
    },
    {
      "cell_type": "markdown",
      "source": [
        "#Factura electrónica"
      ],
      "metadata": {
        "id": "klQrfeiHRfc6"
      }
    },
    {
      "cell_type": "code",
      "source": [
        "sns.countplot(data=datos_TelecomX_Fla, x='Factura_electronica', hue='Cancelación', palette={0: '#F24D3F', 1:'silver'})\n",
        "plt.title('Recuento de Evasión por Factura Electrónica')\n",
        "plt.xticks(rotation=45)\n",
        "plt.show()"
      ],
      "metadata": {
        "colab": {
          "base_uri": "https://localhost:8080/",
          "height": 475
        },
        "id": "kZS45wzSlqjo",
        "outputId": "ebf3bcb6-fba9-4a02-9ab5-51c0f83b2151"
      },
      "execution_count": 112,
      "outputs": [
        {
          "output_type": "display_data",
          "data": {
            "text/plain": [
              "<Figure size 640x480 with 1 Axes>"
            ],
            "image/png": "[encoded data removed]"
          },
          "metadata": {}
        }
      ]
    },
    {
      "cell_type": "markdown",
      "source": [],
      "metadata": {
        "id": "-whYKzlTSxGB"
      }
    },
    {
      "cell_type": "code",
      "source": [
        "# Calcular tasa de churn por Factura_electronica\n",
        "tasa_churn_paperless = datos_TelecomX_Fla.groupby('Factura_electronica')['Cancelación'].mean()\n",
        "\n",
        "print(\"Tasa de Churn según Factura_electronica:\")\n",
        "print(tasa_churn_paperless)"
      ],
      "metadata": {
        "colab": {
          "base_uri": "https://localhost:8080/"
        },
        "id": "rwdh9DFQFgI3",
        "outputId": "64970dc5-5ac7-4bae-d14b-5878e8f1c52b"
      },
      "execution_count": 113,
      "outputs": [
        {
          "output_type": "stream",
          "name": "stdout",
          "text": [
            "Tasa de Churn según Factura_electronica:\n",
            "Factura_electronica\n",
            "0    0.158660\n",
            "1    0.324751\n",
            "Name: Cancelación, dtype: float64\n"
          ]
        }
      ]
    },
    {
      "cell_type": "markdown",
      "source": [
        "El gráfico muestra un recuento de clientes según si utilizan o no el sistema de facturación electrónica (PaperlessBilling), diferenciando entre aquellos que han cancelado el servicio (Churn = 1, color plateado) y los que se han mantenido como clientes (Churn = 0, color rojo anaranjado).\n",
        "\n",
        "Este gráfico permite analizar la posible relación entre el uso de la factura electrónica y la evasión de clientes. Se observa cuántos clientes usan (Yes) o no usan (No) este tipo de facturación, y cuántos de ellos han abandonado el servicio.\n",
        "\n",
        "Si la barra de clientes que usan facturación electrónica presenta una mayor proporción de color plateado (Churn = 1), se podría inferir que existe una mayor tasa de cancelación entre quienes optan por la factura electrónica, lo cual podría ser un indicio de insatisfacción o un perfil de cliente más propenso a abandonar el servicio."
      ],
      "metadata": {
        "id": "qZ7_jAXRTN2n"
      }
    },
    {
      "cell_type": "markdown",
      "source": [
        "#Edades"
      ],
      "metadata": {
        "id": "7RjbKq9gwyHG"
      }
    },
    {
      "cell_type": "code",
      "source": [
        "sns.countplot(data=datos_TelecomX_Fla, x='Ciudadano_senior', hue='Cancelación', palette={0:'#4BFBA9', 1:'#1181F7'})\n",
        "plt.title('Recuento de Evasión por Edades')\n",
        "plt.xticks(rotation=45)\n",
        "plt.show()"
      ],
      "metadata": {
        "id": "UnQoorw-RKJk",
        "colab": {
          "base_uri": "https://localhost:8080/",
          "height": 475
        },
        "outputId": "880739fd-54ad-4a8f-b573-5616ed758dc5"
      },
      "execution_count": 114,
      "outputs": [
        {
          "output_type": "display_data",
          "data": {
            "text/plain": [
              "<Figure size 640x480 with 1 Axes>"
            ],
            "image/png": "[encoded data removed]"
          },
          "metadata": {}
        }
      ]
    },
    {
      "cell_type": "markdown",
      "source": [
        "#####El gráfico generado por el código sns.countplot representa un recuento de clientes según su condición de ser adultos mayores (ciudadano_senior) y su decisión de abandonar el servicio (Cancelación), diferenciando visualmente los casos con colores."
      ],
      "metadata": {
        "id": "glv9BSGjyVS1"
      }
    },
    {
      "cell_type": "markdown",
      "source": [
        "######El gráfico permite observar si existe alguna diferencia en la tasa de cancelación del servicio (Cancelación) entre clientes mayores y no mayores. Por ejemplo, si la barra de clientes mayores que abandonaron el servicio es proporcionalmente más alta que la de los no mayores, podría sugerir que los adultos mayores cancelan más frecuentemente el servicio."
      ],
      "metadata": {
        "id": "fonL039TymJr"
      }
    },
    {
      "cell_type": "markdown",
      "source": [
        "#Análisis de correlación entre variables"
      ],
      "metadata": {
        "id": "BN8SNi1Y4Clk"
      }
    },
    {
      "cell_type": "code",
      "source": [
        "import pandas as pd\n",
        "import seaborn as sns\n",
        "import matplotlib.pyplot as plt\n",
        "\n",
        "# Asegúrate de tener tu DataFrame cargado correctamente\n",
        "data = datos_TelecomX_Fla  # o pd.read_csv('datos_TelecomX_Fla.csv')\n",
        "\n",
        "# Cálculo de la correlación solo entre columnas numéricas\n",
        "correlaciones = data.corr(numeric_only=True)\n",
        "print(correlaciones)\n",
        "\n",
        "# Visualización de la matriz de correlación\n",
        "plt.figure(figsize=(12, 8))\n",
        "sns.heatmap(correlaciones, annot=True, cmap='coolwarm', fmt='.2f')\n",
        "plt.title('Matriz de correlación')\n",
        "plt.show()\n"
      ],
      "metadata": {
        "colab": {
          "base_uri": "https://localhost:8080/",
          "height": 1000
        },
        "id": "gdLrVK2P21J5",
        "outputId": "50bbf657-2cc1-400f-e2da-a483cfe8fd3b"
      },
      "execution_count": 115,
      "outputs": [
        {
          "output_type": "stream",
          "name": "stdout",
          "text": [
            "                        Cancelación  Ciudadano_senior  Tiene_pareja  \\\n",
            "Cancelación                1.000000          0.146733     -0.148546   \n",
            "Ciudadano_senior           0.146733          1.000000      0.022970   \n",
            "Tiene_pareja              -0.148546          0.022970      1.000000   \n",
            "Tiene_dependientes        -0.161384         -0.212952      0.448900   \n",
            "Meses_de_cliente          -0.344079          0.018187      0.377551   \n",
            "Servicio_telefonico        0.012571          0.010060      0.018828   \n",
            "Lineas_multiples           0.039343          0.144567      0.141187   \n",
            "Seguridad_online          -0.166828         -0.037953      0.141392   \n",
            "Respaldo_online           -0.080163          0.068824      0.139523   \n",
            "Proteccion_dispositivo    -0.063452          0.060358      0.153209   \n",
            "Soporte_tecnico           -0.160440         -0.059376      0.116228   \n",
            "Tv_streaming               0.062430          0.103655      0.124754   \n",
            "Peliculas_streaming        0.060586          0.119374      0.115729   \n",
            "Factura_electronica        0.186666          0.157734     -0.011201   \n",
            "Cargos_mensuales           0.189866          0.220388      0.097122   \n",
            "Cargos_totales            -0.194389          0.103484      0.316668   \n",
            "Cuentas_Diarias           -0.999479         -0.144731      0.153397   \n",
            "\n",
            "                        Tiene_dependientes  Meses_de_cliente  \\\n",
            "Cancelación                      -0.161384         -0.344079   \n",
            "Ciudadano_senior                 -0.212952          0.018187   \n",
            "Tiene_pareja                      0.448900          0.377551   \n",
            "Tiene_dependientes                1.000000          0.159892   \n",
            "Meses_de_cliente                  0.159892          1.000000   \n",
            "Servicio_telefonico              -0.003863          0.010205   \n",
            "Lineas_multiples                 -0.027894          0.331678   \n",
            "Seguridad_online                  0.083951          0.327252   \n",
            "Respaldo_online                   0.023686          0.361291   \n",
            "Proteccion_dispositivo            0.014797          0.361792   \n",
            "Soporte_tecnico                   0.062586          0.322139   \n",
            "Tv_streaming                     -0.015030          0.280738   \n",
            "Peliculas_streaming              -0.040151          0.286841   \n",
            "Factura_electronica              -0.111752          0.007949   \n",
            "Cargos_mensuales                 -0.115832          0.247982   \n",
            "Cargos_totales                    0.063847          0.824034   \n",
            "Cuentas_Diarias                   0.162328          0.356315   \n",
            "\n",
            "                        Servicio_telefonico  Lineas_multiples  \\\n",
            "Cancelación                        0.012571          0.039343   \n",
            "Ciudadano_senior                   0.010060          0.144567   \n",
            "Tiene_pareja                       0.018828          0.141187   \n",
            "Tiene_dependientes                -0.003863         -0.027894   \n",
            "Meses_de_cliente                   0.010205          0.331678   \n",
            "Servicio_telefonico                1.000000          0.280379   \n",
            "Lineas_multiples                   0.280379          1.000000   \n",
            "Seguridad_online                  -0.093341          0.098396   \n",
            "Respaldo_online                   -0.052165          0.205156   \n",
            "Proteccion_dispositivo            -0.073033          0.202172   \n",
            "Soporte_tecnico                   -0.097573          0.098053   \n",
            "Tv_streaming                      -0.025362          0.257405   \n",
            "Peliculas_streaming               -0.034345          0.259268   \n",
            "Factura_electronica                0.013624          0.163225   \n",
            "Cargos_mensuales                   0.246709          0.490699   \n",
            "Cargos_totales                     0.113638          0.468584   \n",
            "Cuentas_Diarias                   -0.010319         -0.032144   \n",
            "\n",
            "                        Seguridad_online  Respaldo_online  \\\n",
            "Cancelación                    -0.166828        -0.080163   \n",
            "Ciudadano_senior               -0.037953         0.068824   \n",
            "Tiene_pareja                    0.141392         0.139523   \n",
            "Tiene_dependientes              0.083951         0.023686   \n",
            "Meses_de_cliente                0.327252         0.361291   \n",
            "Servicio_telefonico            -0.093341        -0.052165   \n",
            "Lineas_multiples                0.098396         0.205156   \n",
            "Seguridad_online                1.000000         0.286432   \n",
            "Respaldo_online                 0.286432         1.000000   \n",
            "Proteccion_dispositivo          0.275699         0.306665   \n",
            "Soporte_tecnico                 0.356113         0.292422   \n",
            "Tv_streaming                    0.177332         0.283195   \n",
            "Peliculas_streaming             0.189881         0.276788   \n",
            "Factura_electronica            -0.001693         0.131187   \n",
            "Cargos_mensuales                0.298307         0.442974   \n",
            "Cargos_totales                  0.413341         0.512479   \n",
            "Cuentas_Diarias                 0.169949         0.086316   \n",
            "\n",
            "                        Proteccion_dispositivo  Soporte_tecnico  Tv_streaming  \\\n",
            "Cancelación                          -0.063452        -0.160440      0.062430   \n",
            "Ciudadano_senior                      0.060358        -0.059376      0.103655   \n",
            "Tiene_pareja                          0.153209         0.116228      0.124754   \n",
            "Tiene_dependientes                    0.014797         0.062586     -0.015030   \n",
            "Meses_de_cliente                      0.361792         0.322139      0.280738   \n",
            "Servicio_telefonico                  -0.073033        -0.097573     -0.025362   \n",
            "Lineas_multiples                      0.202172         0.098053      0.257405   \n",
            "Seguridad_online                      0.275699         0.356113      0.177332   \n",
            "Respaldo_online                       0.306665         0.292422      0.283195   \n",
            "Proteccion_dispositivo                1.000000         0.332267      0.394421   \n",
            "Soporte_tecnico                       0.332267         1.000000      0.278376   \n",
            "Tv_streaming                          0.394421         0.278376      1.000000   \n",
            "Peliculas_streaming                   0.402720         0.280058      0.531336   \n",
            "Factura_electronica                   0.105211         0.037581      0.224574   \n",
            "Cargos_mensuales                      0.483590         0.338429      0.628874   \n",
            "Cargos_totales                        0.524303         0.431611      0.516516   \n",
            "Cuentas_Diarias                       0.069516         0.163878     -0.055233   \n",
            "\n",
            "                        Peliculas_streaming  Factura_electronica  \\\n",
            "Cancelación                        0.060586             0.186666   \n",
            "Ciudadano_senior                   0.119374             0.157734   \n",
            "Tiene_pareja                       0.115729            -0.011201   \n",
            "Tiene_dependientes                -0.040151            -0.111752   \n",
            "Meses_de_cliente                   0.286841             0.007949   \n",
            "Servicio_telefonico               -0.034345             0.013624   \n",
            "Lineas_multiples                   0.259268             0.163225   \n",
            "Seguridad_online                   0.189881            -0.001693   \n",
            "Respaldo_online                    0.276788             0.131187   \n",
            "Proteccion_dispositivo             0.402720             0.105211   \n",
            "Soporte_tecnico                    0.280058             0.037581   \n",
            "Tv_streaming                       0.531336             0.224574   \n",
            "Peliculas_streaming                1.000000             0.212443   \n",
            "Factura_electronica                0.212443             1.000000   \n",
            "Cargos_mensuales                   0.628184             0.353714   \n",
            "Cargos_totales                     0.520962             0.159152   \n",
            "Cuentas_Diarias                   -0.053407            -0.185086   \n",
            "\n",
            "                        Cargos_mensuales  Cargos_totales  Cuentas_Diarias  \n",
            "Cancelación                     0.189866       -0.194389        -0.999479  \n",
            "Ciudadano_senior                0.220388        0.103484        -0.144731  \n",
            "Tiene_pareja                    0.097122        0.316668         0.153397  \n",
            "Tiene_dependientes             -0.115832        0.063847         0.162328  \n",
            "Meses_de_cliente                0.247982        0.824034         0.356315  \n",
            "Servicio_telefonico             0.246709        0.113638        -0.010319  \n",
            "Lineas_multiples                0.490699        0.468584        -0.032144  \n",
            "Seguridad_online                0.298307        0.413341         0.169949  \n",
            "Respaldo_online                 0.442974        0.512479         0.086316  \n",
            "Proteccion_dispositivo          0.483590        0.524303         0.069516  \n",
            "Soporte_tecnico                 0.338429        0.431611         0.163878  \n",
            "Tv_streaming                    0.628874        0.516516        -0.055233  \n",
            "Peliculas_streaming             0.628184        0.520962        -0.053407  \n",
            "Factura_electronica             0.353714        0.159152        -0.185086  \n",
            "Cargos_mensuales                1.000000        0.651532        -0.182452  \n",
            "Cargos_totales                  0.651532        1.000000         0.207943  \n",
            "Cuentas_Diarias                -0.182452        0.207943         1.000000  \n"
          ]
        },
        {
          "output_type": "display_data",
          "data": {
            "text/plain": [
              "<Figure size 1200x800 with 2 Axes>"
            ],
            "image/png": "[encoded data removed]"
          },
          "metadata": {}
        }
      ]
    },
    {
      "cell_type": "markdown",
      "source": [
        "## Interpretación: correlaciones con Cancelación"
      ],
      "metadata": {
        "id": "eQLc2brL5HVw"
      }
    },
    {
      "cell_type": "markdown",
      "source": [
        "``Interpretación: Correlación con Cancelación``                                                                                                        \n",
        "| `Meses_de_cliente             | **-0.344**              | Los clientes con más tiempo de antigüedad tienden a **no darse de baja**. Fuerte relación negativa.                                  |\n",
        "\n",
        "\n",
        "| `Cargos_totales`      | **-0.194**              | Mientras más ha pagado un cliente en total, **menos probable es que se dé de baja**. Aunque puede estar influenciado por la antigüedad. |\n",
        "\n",
        "\n",
        "| `Seguridad_online`     | **-0.167**              | Quienes tienen seguridad en línea tienden a **quedarse más**. Podría ser un servicio valioso.                                           |\n",
        "\n",
        "\n",
        "| `Soporte_tecnico`        | **-0.160**              | Clientes con soporte técnico también **abandonan menos**. Posible valor agregado.                                                       |\n",
        "\n",
        "\n",
        "| `Tiene_dependientes`         | **-0.161**              | Clientes con personas a cargo (hijos, etc.) **tienen menos Cancelación**. Tal vez más estables o con más compromiso.                          |\n",
        "\n",
        "\n",
        "| `Tiene_pareja`            | **-0.149**              | Tener pareja también está **ligeramente asociado a menos la Cancelación**.                                                                       |\n",
        "\n",
        "\n",
        "| `Ciudadano_senior`      | **0.147**               | Los adultos mayores son **más propensos a abandonar**. Puede deberse a afinidad con tecnología o precios.                               |\n",
        "\n",
        "\n",
        "| `Factura_electronica`   | **0.187**               | Facturación electrónica se asocia con **más Cancelación**. Posiblemente es una proxy de clientes más nuevos o digitales.                      |\n",
        "\n",
        "\n",
        "| `Cargos_mensuales`    | **0.190**               | Cuanto más paga un cliente mensualmente, **mayor probabilidad de Cancelación**. Tal vez precios altos generan insatisfacción.                 |\n",
        "\n",
        "\n",
        "| `TV/Peliculas Streaming` | **0.060-0.062**         | Muy leve relación positiva con Cancelación. Quizá quienes contratan estos servicios son más \"experimentales\".                                 |\n",
        "\n",
        "\n",
        "| `Servicio_telefonico`       | **0.012**               | No hay relación significativa.                                                                                                          |\n",
        "| `Cuentas_Diarias`    | **-0.021**              | Casi nula correlación con Cancelación. Podría no ser una variable útil.                                                   \n",
        "\n"
      ],
      "metadata": {
        "id": "Bv9tvfYC5Zmy"
      }
    },
    {
      "cell_type": "markdown",
      "source": [
        "##📄Informe final"
      ],
      "metadata": {
        "id": "w-4M0EteAIjk"
      }
    },
    {
      "cell_type": "markdown",
      "source": [
        "Informe Final - Análisis de Evasión de Clientes (Cancelación) en TelecomX\n",
        "\n",
        "**1. Introducción**\n",
        "\n",
        "El presente análisis tiene como objetivo identificar los factores que influyen en la evasión de clientes (Cancelación) en la empresa TelecomX. La retención de clientes es un aspecto clave en la sostenibilidad y crecimiento de cualquier compañía de servicios, ya que adquirir nuevos clientes suele ser más costoso que mantener a los actuales.\n",
        "\n",
        "El problema de la Cancelación consiste en detectar qué características o patrones están más asociados con la cancelación del servicio por parte de los usuarios. A través del análisis de datos y visualizaciones, buscamos generar insights valiosos que permitan a la empresa tomar decisiones estratégicas para reducir la tasa de cancelación.\n",
        "\n",
        "\n",
        "**2. Limpieza y Tratamiento de Datos**\n",
        "\n",
        "Para comenzar, se llevó a cabo una serie de pasos de preprocesamiento de los datos:\n",
        "\n",
        "  -Importación de datos desde un archivo .jon.\n",
        "\n",
        "  -Revisión y corrección de valores nulos o inconsistentes.\n",
        "\n",
        "  -Conversión de variables categóricas a formato adecuado.\n",
        "\n",
        "  -Transformación de columnas como TotalCharges, que estaba en formato string, a valores numéricos.\n",
        "\n",
        "  -Estandarización de etiquetas en variables como la Cancelación, SeniorCitizen, InternetService, entre otras.\n",
        "\n",
        "Este proceso fue esencial para asegurar la calidad del análisis posterior.\n",
        "\n",
        "\n",
        "**3. Análisis Exploratorio de Datos**\n",
        "\n",
        "Se realizaron distintas visualizaciones para comprender mejor el comportamiento de los clientes:\n",
        "\n",
        "Distribución de la variable objetivo (Cancelación)\n",
        "\n",
        "  -Se observó que aproximadamente 25% de los clientes han abandonado el servicio, mientras que el 75% permanecen activos.\n",
        "\n",
        "Relación entre Cancelación y otras variables:\n",
        "\n",
        "  -Edad (Ciudadano_senior): Los adultos mayores tienen una mayor tasa de cancelación.\n",
        "\n",
        " -Gráfico de recuento por Ciudadano_senior y Cancelación\n",
        "\n",
        "  -Tipo de contrato: Los contratos mensuales presentan una mayor tasa de Cancelación que los contratos anuales o de dos años.\n",
        "\n",
        "  -Servicio de Internet: Clientes con servicio de fibra óptica mostraron mayor propensión a la cancelación.\n",
        "\n",
        "  -Facturación electrónica  y método de pago también se asociaron con mayor cancelación.\n",
        "\n",
        "  -Total de cargos mensuales: Los clientes con cargos mensuales altos tienen más probabilidad de irse.\n",
        "\n",
        "\n",
        "**4. Conclusiones e Insights**\n",
        "\n",
        "Los principales hallazgos del análisis fueron:\n",
        "\n",
        "  -Existe una clara relación entre tipo de contrato y la Cancelación: los contratos mensuales tienen mayor evasión.\n",
        "\n",
        "  -Adultos mayores son más propensos a abandonar el servicio, posiblemente por dificultades tecnológicas o menor uso del servicio.\n",
        "\n",
        "  -El servicio de fibra óptica, aunque veloz, parece asociado a una experiencia menos satisfactoria o precios más elevados.\n",
        "\n",
        "  -Clientes que usan facturación electrónica y pagan con métodos automáticos como tarjetas tienden a cancelar más.\n",
        "\n",
        "Estos patrones permiten identificar segmentos de clientes con mayor riesgo de abandono, lo que puede guiar futuras estrategias de retención.\n",
        "\n",
        "\n",
        "**5. Recomendaciones**\n",
        "\n",
        "Con base en los resultados, se proponen las siguientes acciones:\n",
        "\n",
        "  -Ofrecer incentivos y beneficios exclusivos para clientes con contratos mensuales, motivando el cambio a planes de largo plazo.\n",
        "\n",
        "  -Diseñar campañas de retención orientadas a adultos mayores, con atención personalizada y asistencia técnica.\n",
        "\n",
        "  -Revisar la experiencia del cliente con el servicio de fibra óptica, identificando posibles causas de insatisfacción.\n",
        "\n",
        "  -Implementar alertas tempranas para clientes con cargos altos y métodos de pago automáticos, ofreciendo promociones o asesorías.\n",
        "\n",
        "  -Segmentar la base de clientes según riesgo de evasión y realizar intervenciones proactivas.\n",
        "\n"
      ],
      "metadata": {
        "id": "vJiM4ZSAAaul"
      }
    },
    {
      "cell_type": "code",
      "source": [],
      "metadata": {
        "id": "4HLdXgsZ4QRl"
      },
      "execution_count": 115,
      "outputs": []
    }
  ]
}